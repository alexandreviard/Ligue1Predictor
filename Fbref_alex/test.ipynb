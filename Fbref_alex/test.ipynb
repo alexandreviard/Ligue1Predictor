{
 "cells": [
  {
   "cell_type": "code",
   "execution_count": 1,
   "metadata": {},
   "outputs": [],
   "source": [
    "from test import *"
   ]
  },
  {
   "cell_type": "code",
   "execution_count": 2,
   "metadata": {},
   "outputs": [
    {
     "name": "stderr",
     "output_type": "stream",
     "text": [
      "/home/onyxia/work/Fbref_model/Projet-python/Fbref_alex/test.py:88: FutureWarning: Passing literal html to 'read_html' is deprecated and will be removed in a future version. To read from a literal string, wrap it in a 'StringIO' object.\n",
      "  team_data = pd.read_html(team_response.text, match=\"Scores\")[0]\n",
      "/home/onyxia/work/Fbref_model/Projet-python/Fbref_alex/test.py:153: FutureWarning: Passing literal html to 'read_html' is deprecated and will be removed in a future version. To read from a literal string, wrap it in a 'StringIO' object.\n",
      "  detailed_stats = pd.read_html(stats_response.text)[0]\n",
      "/home/onyxia/work/Fbref_model/Projet-python/Fbref_alex/test.py:153: FutureWarning: Passing literal html to 'read_html' is deprecated and will be removed in a future version. To read from a literal string, wrap it in a 'StringIO' object.\n",
      "  detailed_stats = pd.read_html(stats_response.text)[0]\n",
      "/home/onyxia/work/Fbref_model/Projet-python/Fbref_alex/test.py:153: FutureWarning: Passing literal html to 'read_html' is deprecated and will be removed in a future version. To read from a literal string, wrap it in a 'StringIO' object.\n",
      "  detailed_stats = pd.read_html(stats_response.text)[0]\n",
      "/home/onyxia/work/Fbref_model/Projet-python/Fbref_alex/test.py:153: FutureWarning: Passing literal html to 'read_html' is deprecated and will be removed in a future version. To read from a literal string, wrap it in a 'StringIO' object.\n",
      "  detailed_stats = pd.read_html(stats_response.text)[0]\n",
      "/home/onyxia/work/Fbref_model/Projet-python/Fbref_alex/test.py:153: FutureWarning: Passing literal html to 'read_html' is deprecated and will be removed in a future version. To read from a literal string, wrap it in a 'StringIO' object.\n",
      "  detailed_stats = pd.read_html(stats_response.text)[0]\n",
      "/home/onyxia/work/Fbref_model/Projet-python/Fbref_alex/test.py:88: FutureWarning: Passing literal html to 'read_html' is deprecated and will be removed in a future version. To read from a literal string, wrap it in a 'StringIO' object.\n",
      "  team_data = pd.read_html(team_response.text, match=\"Scores\")[0]\n",
      "/home/onyxia/work/Fbref_model/Projet-python/Fbref_alex/test.py:153: FutureWarning: Passing literal html to 'read_html' is deprecated and will be removed in a future version. To read from a literal string, wrap it in a 'StringIO' object.\n",
      "  detailed_stats = pd.read_html(stats_response.text)[0]\n",
      "/home/onyxia/work/Fbref_model/Projet-python/Fbref_alex/test.py:153: FutureWarning: Passing literal html to 'read_html' is deprecated and will be removed in a future version. To read from a literal string, wrap it in a 'StringIO' object.\n",
      "  detailed_stats = pd.read_html(stats_response.text)[0]\n",
      "/home/onyxia/work/Fbref_model/Projet-python/Fbref_alex/test.py:153: FutureWarning: Passing literal html to 'read_html' is deprecated and will be removed in a future version. To read from a literal string, wrap it in a 'StringIO' object.\n",
      "  detailed_stats = pd.read_html(stats_response.text)[0]\n",
      "/home/onyxia/work/Fbref_model/Projet-python/Fbref_alex/test.py:153: FutureWarning: Passing literal html to 'read_html' is deprecated and will be removed in a future version. To read from a literal string, wrap it in a 'StringIO' object.\n",
      "  detailed_stats = pd.read_html(stats_response.text)[0]\n",
      "/home/onyxia/work/Fbref_model/Projet-python/Fbref_alex/test.py:153: FutureWarning: Passing literal html to 'read_html' is deprecated and will be removed in a future version. To read from a literal string, wrap it in a 'StringIO' object.\n",
      "  detailed_stats = pd.read_html(stats_response.text)[0]\n",
      "/home/onyxia/work/Fbref_model/Projet-python/Fbref_alex/test.py:88: FutureWarning: Passing literal html to 'read_html' is deprecated and will be removed in a future version. To read from a literal string, wrap it in a 'StringIO' object.\n",
      "  team_data = pd.read_html(team_response.text, match=\"Scores\")[0]\n",
      "/home/onyxia/work/Fbref_model/Projet-python/Fbref_alex/test.py:153: FutureWarning: Passing literal html to 'read_html' is deprecated and will be removed in a future version. To read from a literal string, wrap it in a 'StringIO' object.\n",
      "  detailed_stats = pd.read_html(stats_response.text)[0]\n",
      "/home/onyxia/work/Fbref_model/Projet-python/Fbref_alex/test.py:153: FutureWarning: Passing literal html to 'read_html' is deprecated and will be removed in a future version. To read from a literal string, wrap it in a 'StringIO' object.\n",
      "  detailed_stats = pd.read_html(stats_response.text)[0]\n",
      "/home/onyxia/work/Fbref_model/Projet-python/Fbref_alex/test.py:153: FutureWarning: Passing literal html to 'read_html' is deprecated and will be removed in a future version. To read from a literal string, wrap it in a 'StringIO' object.\n",
      "  detailed_stats = pd.read_html(stats_response.text)[0]\n",
      "/home/onyxia/work/Fbref_model/Projet-python/Fbref_alex/test.py:153: FutureWarning: Passing literal html to 'read_html' is deprecated and will be removed in a future version. To read from a literal string, wrap it in a 'StringIO' object.\n",
      "  detailed_stats = pd.read_html(stats_response.text)[0]\n",
      "/home/onyxia/work/Fbref_model/Projet-python/Fbref_alex/test.py:153: FutureWarning: Passing literal html to 'read_html' is deprecated and will be removed in a future version. To read from a literal string, wrap it in a 'StringIO' object.\n",
      "  detailed_stats = pd.read_html(stats_response.text)[0]\n",
      "/home/onyxia/work/Fbref_model/Projet-python/Fbref_alex/test.py:88: FutureWarning: Passing literal html to 'read_html' is deprecated and will be removed in a future version. To read from a literal string, wrap it in a 'StringIO' object.\n",
      "  team_data = pd.read_html(team_response.text, match=\"Scores\")[0]\n",
      "/home/onyxia/work/Fbref_model/Projet-python/Fbref_alex/test.py:153: FutureWarning: Passing literal html to 'read_html' is deprecated and will be removed in a future version. To read from a literal string, wrap it in a 'StringIO' object.\n",
      "  detailed_stats = pd.read_html(stats_response.text)[0]\n",
      "/home/onyxia/work/Fbref_model/Projet-python/Fbref_alex/test.py:153: FutureWarning: Passing literal html to 'read_html' is deprecated and will be removed in a future version. To read from a literal string, wrap it in a 'StringIO' object.\n",
      "  detailed_stats = pd.read_html(stats_response.text)[0]\n",
      "/home/onyxia/work/Fbref_model/Projet-python/Fbref_alex/test.py:153: FutureWarning: Passing literal html to 'read_html' is deprecated and will be removed in a future version. To read from a literal string, wrap it in a 'StringIO' object.\n",
      "  detailed_stats = pd.read_html(stats_response.text)[0]\n",
      "/home/onyxia/work/Fbref_model/Projet-python/Fbref_alex/test.py:153: FutureWarning: Passing literal html to 'read_html' is deprecated and will be removed in a future version. To read from a literal string, wrap it in a 'StringIO' object.\n",
      "  detailed_stats = pd.read_html(stats_response.text)[0]\n",
      "/home/onyxia/work/Fbref_model/Projet-python/Fbref_alex/test.py:153: FutureWarning: Passing literal html to 'read_html' is deprecated and will be removed in a future version. To read from a literal string, wrap it in a 'StringIO' object.\n",
      "  detailed_stats = pd.read_html(stats_response.text)[0]\n",
      "/home/onyxia/work/Fbref_model/Projet-python/Fbref_alex/test.py:88: FutureWarning: Passing literal html to 'read_html' is deprecated and will be removed in a future version. To read from a literal string, wrap it in a 'StringIO' object.\n",
      "  team_data = pd.read_html(team_response.text, match=\"Scores\")[0]\n",
      "/home/onyxia/work/Fbref_model/Projet-python/Fbref_alex/test.py:153: FutureWarning: Passing literal html to 'read_html' is deprecated and will be removed in a future version. To read from a literal string, wrap it in a 'StringIO' object.\n",
      "  detailed_stats = pd.read_html(stats_response.text)[0]\n",
      "/home/onyxia/work/Fbref_model/Projet-python/Fbref_alex/test.py:153: FutureWarning: Passing literal html to 'read_html' is deprecated and will be removed in a future version. To read from a literal string, wrap it in a 'StringIO' object.\n",
      "  detailed_stats = pd.read_html(stats_response.text)[0]\n",
      "/home/onyxia/work/Fbref_model/Projet-python/Fbref_alex/test.py:153: FutureWarning: Passing literal html to 'read_html' is deprecated and will be removed in a future version. To read from a literal string, wrap it in a 'StringIO' object.\n",
      "  detailed_stats = pd.read_html(stats_response.text)[0]\n",
      "/home/onyxia/work/Fbref_model/Projet-python/Fbref_alex/test.py:153: FutureWarning: Passing literal html to 'read_html' is deprecated and will be removed in a future version. To read from a literal string, wrap it in a 'StringIO' object.\n",
      "  detailed_stats = pd.read_html(stats_response.text)[0]\n",
      "/home/onyxia/work/Fbref_model/Projet-python/Fbref_alex/test.py:153: FutureWarning: Passing literal html to 'read_html' is deprecated and will be removed in a future version. To read from a literal string, wrap it in a 'StringIO' object.\n",
      "  detailed_stats = pd.read_html(stats_response.text)[0]\n",
      "/home/onyxia/work/Fbref_model/Projet-python/Fbref_alex/test.py:88: FutureWarning: Passing literal html to 'read_html' is deprecated and will be removed in a future version. To read from a literal string, wrap it in a 'StringIO' object.\n",
      "  team_data = pd.read_html(team_response.text, match=\"Scores\")[0]\n",
      "/home/onyxia/work/Fbref_model/Projet-python/Fbref_alex/test.py:153: FutureWarning: Passing literal html to 'read_html' is deprecated and will be removed in a future version. To read from a literal string, wrap it in a 'StringIO' object.\n",
      "  detailed_stats = pd.read_html(stats_response.text)[0]\n",
      "/home/onyxia/work/Fbref_model/Projet-python/Fbref_alex/test.py:153: FutureWarning: Passing literal html to 'read_html' is deprecated and will be removed in a future version. To read from a literal string, wrap it in a 'StringIO' object.\n",
      "  detailed_stats = pd.read_html(stats_response.text)[0]\n",
      "/home/onyxia/work/Fbref_model/Projet-python/Fbref_alex/test.py:153: FutureWarning: Passing literal html to 'read_html' is deprecated and will be removed in a future version. To read from a literal string, wrap it in a 'StringIO' object.\n",
      "  detailed_stats = pd.read_html(stats_response.text)[0]\n",
      "/home/onyxia/work/Fbref_model/Projet-python/Fbref_alex/test.py:153: FutureWarning: Passing literal html to 'read_html' is deprecated and will be removed in a future version. To read from a literal string, wrap it in a 'StringIO' object.\n",
      "  detailed_stats = pd.read_html(stats_response.text)[0]\n",
      "/home/onyxia/work/Fbref_model/Projet-python/Fbref_alex/test.py:153: FutureWarning: Passing literal html to 'read_html' is deprecated and will be removed in a future version. To read from a literal string, wrap it in a 'StringIO' object.\n",
      "  detailed_stats = pd.read_html(stats_response.text)[0]\n",
      "/home/onyxia/work/Fbref_model/Projet-python/Fbref_alex/test.py:88: FutureWarning: Passing literal html to 'read_html' is deprecated and will be removed in a future version. To read from a literal string, wrap it in a 'StringIO' object.\n",
      "  team_data = pd.read_html(team_response.text, match=\"Scores\")[0]\n",
      "/home/onyxia/work/Fbref_model/Projet-python/Fbref_alex/test.py:153: FutureWarning: Passing literal html to 'read_html' is deprecated and will be removed in a future version. To read from a literal string, wrap it in a 'StringIO' object.\n",
      "  detailed_stats = pd.read_html(stats_response.text)[0]\n",
      "/home/onyxia/work/Fbref_model/Projet-python/Fbref_alex/test.py:153: FutureWarning: Passing literal html to 'read_html' is deprecated and will be removed in a future version. To read from a literal string, wrap it in a 'StringIO' object.\n",
      "  detailed_stats = pd.read_html(stats_response.text)[0]\n",
      "/home/onyxia/work/Fbref_model/Projet-python/Fbref_alex/test.py:153: FutureWarning: Passing literal html to 'read_html' is deprecated and will be removed in a future version. To read from a literal string, wrap it in a 'StringIO' object.\n",
      "  detailed_stats = pd.read_html(stats_response.text)[0]\n",
      "/home/onyxia/work/Fbref_model/Projet-python/Fbref_alex/test.py:153: FutureWarning: Passing literal html to 'read_html' is deprecated and will be removed in a future version. To read from a literal string, wrap it in a 'StringIO' object.\n",
      "  detailed_stats = pd.read_html(stats_response.text)[0]\n",
      "/home/onyxia/work/Fbref_model/Projet-python/Fbref_alex/test.py:153: FutureWarning: Passing literal html to 'read_html' is deprecated and will be removed in a future version. To read from a literal string, wrap it in a 'StringIO' object.\n",
      "  detailed_stats = pd.read_html(stats_response.text)[0]\n",
      "/home/onyxia/work/Fbref_model/Projet-python/Fbref_alex/test.py:88: FutureWarning: Passing literal html to 'read_html' is deprecated and will be removed in a future version. To read from a literal string, wrap it in a 'StringIO' object.\n",
      "  team_data = pd.read_html(team_response.text, match=\"Scores\")[0]\n",
      "/home/onyxia/work/Fbref_model/Projet-python/Fbref_alex/test.py:153: FutureWarning: Passing literal html to 'read_html' is deprecated and will be removed in a future version. To read from a literal string, wrap it in a 'StringIO' object.\n",
      "  detailed_stats = pd.read_html(stats_response.text)[0]\n"
     ]
    },
    {
     "ename": "KeyboardInterrupt",
     "evalue": "",
     "output_type": "error",
     "traceback": [
      "\u001b[0;31m---------------------------------------------------------------------------\u001b[0m",
      "\u001b[0;31mKeyboardInterrupt\u001b[0m                         Traceback (most recent call last)",
      "\u001b[1;32m/home/onyxia/work/Fbref_model/Projet-python/Fbref_alex/test.ipynb Cell 2\u001b[0m line \u001b[0;36m1\n\u001b[0;32m----> <a href='vscode-notebook-cell://user-alexandreviard-610998-0.user.lab.sspcloud.fr/home/onyxia/work/Fbref_model/Projet-python/Fbref_alex/test.ipynb#W1sdnNjb2RlLXJlbW90ZQ%3D%3D?line=0'>1</a>\u001b[0m a \u001b[39m=\u001b[39m scrape_latest_ligue1_data()\n",
      "File \u001b[0;32m~/work/Fbref_model/Projet-python/Fbref_alex/test.py:95\u001b[0m, in \u001b[0;36mscrape_latest_ligue1_data\u001b[0;34m()\u001b[0m\n\u001b[1;32m     92\u001b[0m stats_urls \u001b[39m=\u001b[39m get_stats_urls(team_response)\n\u001b[1;32m     94\u001b[0m \u001b[39mfor\u001b[39;00m stats_url \u001b[39min\u001b[39;00m \u001b[39mset\u001b[39m(stats_urls):\n\u001b[0;32m---> 95\u001b[0m     rate_limit()\n\u001b[1;32m     96\u001b[0m     detailed_stats \u001b[39m=\u001b[39m get_detailed_stats(stats_url, headers)\n\u001b[1;32m     97\u001b[0m     team_data \u001b[39m=\u001b[39m team_data\u001b[39m.\u001b[39mmerge(detailed_stats, on\u001b[39m=\u001b[39m\u001b[39m\"\u001b[39m\u001b[39mDate\u001b[39m\u001b[39m\"\u001b[39m)\n",
      "File \u001b[0;32m~/work/Fbref_model/Projet-python/Fbref_alex/test.py:115\u001b[0m, in \u001b[0;36mrate_limit\u001b[0;34m()\u001b[0m\n\u001b[1;32m    113\u001b[0m     elapsed_time \u001b[39m=\u001b[39m time\u001b[39m.\u001b[39mtime() \u001b[39m-\u001b[39m last_request_time\n\u001b[1;32m    114\u001b[0m     \u001b[39mif\u001b[39;00m elapsed_time \u001b[39m<\u001b[39m MIN_REQUEST_INTERVAL:\n\u001b[0;32m--> 115\u001b[0m         time\u001b[39m.\u001b[39;49msleep(MIN_REQUEST_INTERVAL \u001b[39m-\u001b[39;49m elapsed_time)\n\u001b[1;32m    116\u001b[0m rate_limit\u001b[39m.\u001b[39mlast_request_time \u001b[39m=\u001b[39m time\u001b[39m.\u001b[39mtime()\n",
      "\u001b[0;31mKeyboardInterrupt\u001b[0m: "
     ]
    }
   ],
   "source": [
    "a = scrape_latest_ligue1_data()"
   ]
  },
  {
   "cell_type": "code",
   "execution_count": 13,
   "metadata": {},
   "outputs": [],
   "source": [
    "b = pd.read_csv(\"SOCCER_201223_18h.csv\")"
   ]
  },
  {
   "cell_type": "code",
   "execution_count": 14,
   "metadata": {},
   "outputs": [],
   "source": [
    "b = b.rename(columns={'equipe': 'Team'})\n"
   ]
  },
  {
   "cell_type": "code",
   "execution_count": 15,
   "metadata": {},
   "outputs": [
    {
     "ename": "KeyError",
     "evalue": "'DateTime'",
     "output_type": "error",
     "traceback": [
      "\u001b[0;31m---------------------------------------------------------------------------\u001b[0m",
      "\u001b[0;31mKeyError\u001b[0m                                  Traceback (most recent call last)",
      "\u001b[0;32m/tmp/ipykernel_409224/958084003.py\u001b[0m in \u001b[0;36m?\u001b[0;34m()\u001b[0m\n\u001b[0;32m----> 1\u001b[0;31m \u001b[0mc\u001b[0m \u001b[0;34m=\u001b[0m \u001b[0madd_new_matches\u001b[0m\u001b[0;34m(\u001b[0m\u001b[0mbase_initiale\u001b[0m\u001b[0;34m=\u001b[0m\u001b[0mb\u001b[0m\u001b[0;34m,\u001b[0m \u001b[0mbase_nouvelle\u001b[0m\u001b[0;34m=\u001b[0m\u001b[0ma\u001b[0m\u001b[0;34m)\u001b[0m\u001b[0;34m\u001b[0m\u001b[0;34m\u001b[0m\u001b[0m\n\u001b[0m",
      "\u001b[0;32m~/work/Fbref_model/Projet-python/Fbref_alex/test.py\u001b[0m in \u001b[0;36m?\u001b[0;34m(base_initiale, base_nouvelle)\u001b[0m\n\u001b[1;32m    118\u001b[0m     \u001b[0;34m:\u001b[0m\u001b[0mparam\u001b[0m \u001b[0mbase_nouvelle\u001b[0m\u001b[0;34m:\u001b[0m \u001b[0mNouveau\u001b[0m \u001b[0mDataFrame\u001b[0m \u001b[0mà\u001b[0m \u001b[0majouter\u001b[0m\u001b[0;34m.\u001b[0m\u001b[0;34m\u001b[0m\u001b[0;34m\u001b[0m\u001b[0m\n\u001b[1;32m    119\u001b[0m     \u001b[0;34m:\u001b[0m\u001b[0;32mreturn\u001b[0m\u001b[0;34m:\u001b[0m \u001b[0mDataFrame\u001b[0m \u001b[0mconcaténé\u001b[0m\u001b[0;34m.\u001b[0m\u001b[0;34m\u001b[0m\u001b[0;34m\u001b[0m\u001b[0m\n\u001b[1;32m    120\u001b[0m     \"\"\"\n\u001b[1;32m    121\u001b[0m     \u001b[0mbase_nouvelle\u001b[0m \u001b[0;34m=\u001b[0m \u001b[0mbase_nouvelle\u001b[0m\u001b[0;34m[\u001b[0m\u001b[0mbase_initiale\u001b[0m\u001b[0;34m.\u001b[0m\u001b[0mcolumns\u001b[0m\u001b[0;34m]\u001b[0m\u001b[0;34m\u001b[0m\u001b[0;34m\u001b[0m\u001b[0m\n\u001b[0;32m--> 122\u001b[0;31m     \u001b[0;32mreturn\u001b[0m \u001b[0mpd\u001b[0m\u001b[0;34m.\u001b[0m\u001b[0mconcat\u001b[0m\u001b[0;34m(\u001b[0m\u001b[0;34m[\u001b[0m\u001b[0mbase_nouvelle\u001b[0m\u001b[0;34m,\u001b[0m \u001b[0mbase_initiale\u001b[0m\u001b[0;34m]\u001b[0m\u001b[0;34m)\u001b[0m\u001b[0;34m.\u001b[0m\u001b[0mdrop_duplicates\u001b[0m\u001b[0;34m(\u001b[0m\u001b[0;34m)\u001b[0m\u001b[0;34m.\u001b[0m\u001b[0mreset_index\u001b[0m\u001b[0;34m(\u001b[0m\u001b[0mdrop\u001b[0m\u001b[0;34m=\u001b[0m\u001b[0;32mTrue\u001b[0m\u001b[0;34m)\u001b[0m\u001b[0;34m\u001b[0m\u001b[0;34m\u001b[0m\u001b[0m\n\u001b[0m",
      "\u001b[0;32m/opt/mamba/lib/python3.10/site-packages/pandas/core/frame.py\u001b[0m in \u001b[0;36m?\u001b[0;34m(self, by, axis, ascending, inplace, kind, na_position, ignore_index, key)\u001b[0m\n\u001b[1;32m   6940\u001b[0m             )\n\u001b[1;32m   6941\u001b[0m         \u001b[0;32melif\u001b[0m \u001b[0mlen\u001b[0m\u001b[0;34m(\u001b[0m\u001b[0mby\u001b[0m\u001b[0;34m)\u001b[0m\u001b[0;34m:\u001b[0m\u001b[0;34m\u001b[0m\u001b[0;34m\u001b[0m\u001b[0m\n\u001b[1;32m   6942\u001b[0m             \u001b[0;31m# len(by) == 1\u001b[0m\u001b[0;34m\u001b[0m\u001b[0;34m\u001b[0m\u001b[0m\n\u001b[1;32m   6943\u001b[0m \u001b[0;34m\u001b[0m\u001b[0m\n\u001b[0;32m-> 6944\u001b[0;31m             \u001b[0mk\u001b[0m \u001b[0;34m=\u001b[0m \u001b[0mself\u001b[0m\u001b[0;34m.\u001b[0m\u001b[0m_get_label_or_level_values\u001b[0m\u001b[0;34m(\u001b[0m\u001b[0mby\u001b[0m\u001b[0;34m[\u001b[0m\u001b[0;36m0\u001b[0m\u001b[0;34m]\u001b[0m\u001b[0;34m,\u001b[0m \u001b[0maxis\u001b[0m\u001b[0;34m=\u001b[0m\u001b[0maxis\u001b[0m\u001b[0;34m)\u001b[0m\u001b[0;34m\u001b[0m\u001b[0;34m\u001b[0m\u001b[0m\n\u001b[0m\u001b[1;32m   6945\u001b[0m \u001b[0;34m\u001b[0m\u001b[0m\n\u001b[1;32m   6946\u001b[0m             \u001b[0;31m# need to rewrap column in Series to apply key function\u001b[0m\u001b[0;34m\u001b[0m\u001b[0;34m\u001b[0m\u001b[0m\n\u001b[1;32m   6947\u001b[0m             \u001b[0;32mif\u001b[0m \u001b[0mkey\u001b[0m \u001b[0;32mis\u001b[0m \u001b[0;32mnot\u001b[0m \u001b[0;32mNone\u001b[0m\u001b[0;34m:\u001b[0m\u001b[0;34m\u001b[0m\u001b[0;34m\u001b[0m\u001b[0m\n",
      "\u001b[0;32m/opt/mamba/lib/python3.10/site-packages/pandas/core/generic.py\u001b[0m in \u001b[0;36m?\u001b[0;34m(self, key, axis)\u001b[0m\n\u001b[1;32m   1840\u001b[0m             \u001b[0mvalues\u001b[0m \u001b[0;34m=\u001b[0m \u001b[0mself\u001b[0m\u001b[0;34m.\u001b[0m\u001b[0mxs\u001b[0m\u001b[0;34m(\u001b[0m\u001b[0mkey\u001b[0m\u001b[0;34m,\u001b[0m \u001b[0maxis\u001b[0m\u001b[0;34m=\u001b[0m\u001b[0mother_axes\u001b[0m\u001b[0;34m[\u001b[0m\u001b[0;36m0\u001b[0m\u001b[0;34m]\u001b[0m\u001b[0;34m)\u001b[0m\u001b[0;34m.\u001b[0m\u001b[0m_values\u001b[0m\u001b[0;34m\u001b[0m\u001b[0;34m\u001b[0m\u001b[0m\n\u001b[1;32m   1841\u001b[0m         \u001b[0;32melif\u001b[0m \u001b[0mself\u001b[0m\u001b[0;34m.\u001b[0m\u001b[0m_is_level_reference\u001b[0m\u001b[0;34m(\u001b[0m\u001b[0mkey\u001b[0m\u001b[0;34m,\u001b[0m \u001b[0maxis\u001b[0m\u001b[0;34m=\u001b[0m\u001b[0maxis\u001b[0m\u001b[0;34m)\u001b[0m\u001b[0;34m:\u001b[0m\u001b[0;34m\u001b[0m\u001b[0;34m\u001b[0m\u001b[0m\n\u001b[1;32m   1842\u001b[0m             \u001b[0mvalues\u001b[0m \u001b[0;34m=\u001b[0m \u001b[0mself\u001b[0m\u001b[0;34m.\u001b[0m\u001b[0maxes\u001b[0m\u001b[0;34m[\u001b[0m\u001b[0maxis\u001b[0m\u001b[0;34m]\u001b[0m\u001b[0;34m.\u001b[0m\u001b[0mget_level_values\u001b[0m\u001b[0;34m(\u001b[0m\u001b[0mkey\u001b[0m\u001b[0;34m)\u001b[0m\u001b[0;34m.\u001b[0m\u001b[0m_values\u001b[0m\u001b[0;34m\u001b[0m\u001b[0;34m\u001b[0m\u001b[0m\n\u001b[1;32m   1843\u001b[0m         \u001b[0;32melse\u001b[0m\u001b[0;34m:\u001b[0m\u001b[0;34m\u001b[0m\u001b[0;34m\u001b[0m\u001b[0m\n\u001b[0;32m-> 1844\u001b[0;31m             \u001b[0;32mraise\u001b[0m \u001b[0mKeyError\u001b[0m\u001b[0;34m(\u001b[0m\u001b[0mkey\u001b[0m\u001b[0;34m)\u001b[0m\u001b[0;34m\u001b[0m\u001b[0;34m\u001b[0m\u001b[0m\n\u001b[0m\u001b[1;32m   1845\u001b[0m \u001b[0;34m\u001b[0m\u001b[0m\n\u001b[1;32m   1846\u001b[0m         \u001b[0;31m# Check for duplicates\u001b[0m\u001b[0;34m\u001b[0m\u001b[0;34m\u001b[0m\u001b[0m\n\u001b[1;32m   1847\u001b[0m         \u001b[0;32mif\u001b[0m \u001b[0mvalues\u001b[0m\u001b[0;34m.\u001b[0m\u001b[0mndim\u001b[0m \u001b[0;34m>\u001b[0m \u001b[0;36m1\u001b[0m\u001b[0;34m:\u001b[0m\u001b[0;34m\u001b[0m\u001b[0;34m\u001b[0m\u001b[0m\n",
      "\u001b[0;31mKeyError\u001b[0m: 'DateTime'"
     ]
    }
   ],
   "source": [
    "c = add_new_matches(base_initiale=b, base_nouvelle=a)"
   ]
  }
 ],
 "metadata": {
  "kernelspec": {
   "display_name": "base",
   "language": "python",
   "name": "python3"
  },
  "language_info": {
   "codemirror_mode": {
    "name": "ipython",
    "version": 3
   },
   "file_extension": ".py",
   "mimetype": "text/x-python",
   "name": "python",
   "nbconvert_exporter": "python",
   "pygments_lexer": "ipython3",
   "version": "3.10.13"
  }
 },
 "nbformat": 4,
 "nbformat_minor": 2
}
