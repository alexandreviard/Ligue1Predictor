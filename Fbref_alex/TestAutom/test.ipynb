{
 "cells": [
  {
   "cell_type": "code",
   "execution_count": 4,
   "metadata": {},
   "outputs": [],
   "source": [
    "from scrapping import *\n",
    "from fonctions_preprocess import *"
   ]
  },
  {
   "cell_type": "code",
   "execution_count": 5,
   "metadata": {},
   "outputs": [],
   "source": [
    "B = pd.read_csv(\"/home/onyxia/work/Projet-python/Fbref_alex/SOCCER_241223.csv\", index_col=0)\n",
    "C = pd.read_csv(\"/home/onyxia/work/Projet-python/Fbref_alex/recup_matchweek.csv\", index_col=0)"
   ]
  },
  {
   "cell_type": "code",
   "execution_count": 6,
   "metadata": {},
   "outputs": [],
   "source": [
    "mapping_equipe = {\n",
    "    'Nimes': 'Nîmes',\n",
    "    'Paris S-G': 'Paris Saint Germain',\n",
    "    'Saint Etienne': 'Saint-Étienne'\n",
    "}\n",
    "pd.set_option('display.max_columns', None)"
   ]
  },
  {
   "cell_type": "code",
   "execution_count": 7,
   "metadata": {},
   "outputs": [],
   "source": [
    "from datetime import datetime\n",
    "\n",
    "ajd = datetime.now()\n",
    "\n",
    "B = preprocess_initial(B, mapping_equipe=mapping_equipe)\n",
    "C = preprocess_initial(C, mapping_equipe)\n",
    "B = renommer_colonnes(B)\n",
    "C = renommer_colonnes(C)\n",
    "B = columns_to_keep(B)\n",
    "C = columns_to_keep(C)\n",
    "B = preprocess_variables(B)\n",
    "resultat = pd.concat([C, B], sort=False).reset_index(drop= True)\n",
    "resultat = preparation_model(resultat)\n",
    "resultat = preprocess_data(resultat)\n"
   ]
  },
  {
   "cell_type": "code",
   "execution_count": 9,
   "metadata": {},
   "outputs": [
    {
     "name": "stderr",
     "output_type": "stream",
     "text": [
      "/home/onyxia/work/Projet-python/Fbref_alex/TestAutom/fonctions_preprocess.py:442: UserWarning: Boolean Series key will be reindexed to match DataFrame index.\n",
      "  y_train = X_train[df['DateTime'] <= cutoff_date][\"Result\"]\n"
     ]
    }
   ],
   "source": [
    "modelisation(resultat, ajd).to_csv(\"futur_result.csv\")"
   ]
  },
  {
   "cell_type": "code",
   "execution_count": null,
   "metadata": {},
   "outputs": [],
   "source": [
    "A = pd.read_csv(\"result.csv\", index_col=0)\n",
    "A[\"DateTime\"] = pd.to_datetime(A[\"DateTime\"])\n",
    "derniere_date = A[\"DateTime\"].max()\n",
    "\n",
    "if derniere_date <= ajd:\n",
    "\n",
    "    base_actuelle = pd.read_csv(\"/home/onyxia/work/Projet-python/Fbref_alex/SOCCER_241223.csv\", index_col=0)\n",
    "    data = scrape_latest_ligue1_data()\n",
    "    base_supplémentaire = data[0]\n",
    "    base_updated = add_new_matches(base_initiale=base_actuelle, base_nouvelle=base_supplémentaire)\n",
    "    base_updated.to_csv(\"/home/onyxia/work/Projet-python/Fbref_alex/SOCCER_241223.csv\")\n",
    "\n",
    "    recup_matchweek = data[1]\n",
    "\n",
    "    recup_matchweek=find_futur_matchweeks(recup_matchweek, mapping_equipe)\n",
    "\n",
    "    if recup_matchweek == None:\n",
    "        print(\"Pas de nouveaux matchs à récupérer\")\n",
    "    else:\n",
    "        \n",
    "        recup_matchweek2 = recup_matchweek.copy()\n",
    "        recup_matchweek2 = preprocess_initial(recup_matchweek2, mapping_equipe)\n",
    "        recup_matchweek2 = renommer_colonnes(recup_matchweek2)\n",
    "        recup_matchweek2 = columns_to_keep(recup_matchweek2)\n",
    "\n",
    "        base_updated2 = base_updated.copy()\n",
    "        base_updated2 = preprocess_initial(base_updated2, mapping_equipe)\n",
    "        base_updated2 = renommer_colonnes(base_updated2)\n",
    "        base_updated2 = columns_to_keep(base_updated2)\n",
    "        base_updated2 = preprocess_variables(base_updated2)\n",
    "\n",
    "        resultat = pd.concat([base_updated2, recup_matchweek2], sort=False).reset_index(drop= True)\n",
    "        resultat = preparation_model(resultat)\n",
    "        resultat = preprocess_data(resultat, ajd)\n",
    "\n",
    "\n",
    "        A = pd.concat([A, resultat]).sort_values(by=\"DateTime\").reset_index(drop= True)\n",
    "        A_updated = A.merge(df[['MatchID', 'Result']], on='MatchID', how='left')\n",
    "        A.to_csv(\"futur_result.csv\")\n",
    "        \n",
    "\n",
    "        \n",
    "\n",
    "\n",
    "    #base_updated.to_csv(\"/home/onyxia/work/Projet-python/Fbref_alex/SOCCER_241223.csv\")\n",
    "    #base_updated.to_csv(\"Fbref_alex/SOCCER_241223.csv\")\n",
    "    \n",
    "\n",
    "\n",
    "    #recup_matchweek.to_csv(\"/home/onyxia/work/Projet-python/Fbref_alex/recup_matchweek.csv\")\n",
    "    #recup_matchweek.to_csv(\"Fbref_alex/recup_matchweek.csv\")\n",
    "    "
   ]
  }
 ],
 "metadata": {
  "kernelspec": {
   "display_name": "base",
   "language": "python",
   "name": "python3"
  },
  "language_info": {
   "codemirror_mode": {
    "name": "ipython",
    "version": 3
   },
   "file_extension": ".py",
   "mimetype": "text/x-python",
   "name": "python",
   "nbconvert_exporter": "python",
   "pygments_lexer": "ipython3",
   "version": "3.10.13"
  }
 },
 "nbformat": 4,
 "nbformat_minor": 2
}
