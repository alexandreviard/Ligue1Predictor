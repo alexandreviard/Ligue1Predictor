{
 "cells": [
  {
   "cell_type": "code",
   "execution_count": 2,
   "metadata": {},
   "outputs": [],
   "source": [
    "import requests\n",
    "from bs4 import BeautifulSoup\n",
    "import pandas as pd\n",
    "import time\n",
    "\n",
    "\n",
    "\n",
    "\n",
    "\n",
    "\n",
    "# Fonction pour scraper les données de la Ligue 1 sur plusieurs saisons\n",
    "def scrape_ligue1_data(nb_saisons=6):\n",
    "    \"\"\"\n",
    "    Scrappe les données de la Ligue 1 pour un nombre donné de saisons.\n",
    "    :param nb_saisons: Nombre de saisons à scraper.\n",
    "    :return: DataFrame des données agrégées sur les saisons spécifiées.\n",
    "    \"\"\"\n",
    "    url_base_ligue1 = \"https://fbref.com/en/comps/13/Ligue-1-Stats\"\n",
    "    headers = {'User-Agent': 'Mozilla/5.0'}\n",
    "    all_seasons_data = []\n",
    "\n",
    "    for saison in range(nb_saisons):\n",
    "        rate_limit()\n",
    "        response = requests.get(url_base_ligue1, headers=headers)\n",
    "        soup = BeautifulSoup(response.text, 'html.parser')\n",
    "        teams_urls = [f\"https://fbref.com{a.get('href')}\" for a in soup.select(\"table.stats_table a\") if \"squads\" in a.get('href')]\n",
    "        url_base_ligue1 = f\"https://fbref.com{soup.find('a', class_='button2 prev').get('href')}\"\n",
    "\n",
    "        for team_url in teams_urls:\n",
    "            rate_limit()\n",
    "            team_response = requests.get(team_url, headers=headers)\n",
    "            team_data = pd.read_html(team_response.text, match=\"Scores\")[0]\n",
    "            team_name = team_url.split(\"/\")[-1].replace(\"-Stats\", \"\").replace(\"-\", \" \")\n",
    "            team_data[\"Team\"] = team_name\n",
    "            stats_urls = get_stats_urls(team_response)\n",
    "\n",
    "            for stats_url in set(stats_urls):\n",
    "                rate_limit()\n",
    "                detailed_stats = get_detailed_stats(stats_url, headers)\n",
    "                team_data = team_data.merge(detailed_stats, on=\"Date\")\n",
    "\n",
    "            all_seasons_data.append(team_data)\n",
    "\n",
    "    return pd.concat(all_seasons_data, ignore_index=True)\n",
    "\n",
    "\n",
    "# Fonction pour scraper les dernières données de la Ligue 1\n",
    "def scrape_latest_ligue1_data():\n",
    "    \"\"\"\n",
    "    Scrappe les dernières données disponibles pour chaque équipe de la Ligue 1.\n",
    "    :return: DataFrame des dernières données agrégées pour chaque équipe.\n",
    "    \"\"\"\n",
    "    url_ligue1 = \"https://fbref.com/en/comps/13/Ligue-1-Stats\"\n",
    "    headers = {'User-Agent': 'Mozilla/5.0'}\n",
    "    latest_data = []\n",
    "\n",
    "    response = requests.get(url_ligue1, headers=headers)\n",
    "    soup = BeautifulSoup(response.text, 'html.parser')\n",
    "    teams_urls = [f\"https://fbref.com{a.get('href')}\" for a in soup.select(\"table.stats_table a\") if \"squads\" in a.get('href')]\n",
    "\n",
    "    for team_url in teams_urls:\n",
    "        rate_limit()\n",
    "        team_response = requests.get(team_url, headers=headers)\n",
    "        team_data = pd.read_html(team_response.text, match=\"Scores\")[0]\n",
    "        team_name = team_url.split(\"/\")[-1].replace(\"-Stats\", \"\").replace(\"-\", \" \")\n",
    "        team_data[\"Team\"] = team_name\n",
    "        stats_urls = get_stats_urls(team_response)\n",
    "\n",
    "        for stats_url in set(stats_urls):\n",
    "            rate_limit()\n",
    "            detailed_stats = get_detailed_stats(stats_url, headers)\n",
    "            team_data = team_data.merge(detailed_stats, on=\"Date\")\n",
    "\n",
    "        latest_data.append(team_data)\n",
    "\n",
    "    return pd.concat(latest_data, ignore_index=True)\n"
   ]
  },
  {
   "cell_type": "code",
   "execution_count": 3,
   "metadata": {},
   "outputs": [],
   "source": [
    "url_base_ligue1 = \"https://fbref.com/en/comps/13/Ligue-1-Stats\"\n",
    "headers = {'User-Agent': 'Mozilla/5.0'}\n",
    "response = requests.get(url_base_ligue1, headers=headers)\n",
    "soup = BeautifulSoup(response.text, 'html.parser')"
   ]
  },
  {
   "cell_type": "code",
   "execution_count": 4,
   "metadata": {},
   "outputs": [],
   "source": [
    "url_equipes = soup.select(\"table.stats_table\")[0].find_all(\"a\")\n",
    "url_equipes = [equipes.get(\"href\") for equipes in url_equipes]\n",
    "url_equipes = [equipes for equipes in url_equipes if equipes and \"squads\" in equipes]\n",
    "url_equipes = [f\"https://fbref.com{i}\" for i in url_equipes]"
   ]
  },
  {
   "cell_type": "code",
   "execution_count": 5,
   "metadata": {},
   "outputs": [],
   "source": [
    "url_equipes = [\"https://fbref.com\" + equipe.get(\"href\") for equipe in soup.select(\"table.stats_table\")[0].find_all(\"a\") if \"squads\" in equipe.get(\"href\", \"\")]\n"
   ]
  },
  {
   "cell_type": "code",
   "execution_count": 6,
   "metadata": {},
   "outputs": [
    {
     "data": {
      "text/plain": [
       "['https://fbref.com/en/squads/e2d8892c/Paris-Saint-Germain-Stats',\n",
       " 'https://fbref.com/en/squads/132ebc33/Nice-Stats',\n",
       " 'https://fbref.com/en/squads/fd6114db/Monaco-Stats',\n",
       " 'https://fbref.com/en/squads/fb08dbb3/Brest-Stats',\n",
       " 'https://fbref.com/en/squads/cb188c0c/Lille-Stats',\n",
       " 'https://fbref.com/en/squads/5725cc7b/Marseille-Stats',\n",
       " 'https://fbref.com/en/squads/fd4e0f7d/Lens-Stats',\n",
       " 'https://fbref.com/en/squads/7fdd64e0/Reims-Stats',\n",
       " 'https://fbref.com/en/squads/c0d3eab4/Strasbourg-Stats',\n",
       " 'https://fbref.com/en/squads/b3072e00/Rennes-Stats',\n",
       " 'https://fbref.com/en/squads/281b0e73/Montpellier-Stats',\n",
       " 'https://fbref.com/en/squads/5c2737db/Le-Havre-Stats',\n",
       " 'https://fbref.com/en/squads/d7a486cd/Nantes-Stats',\n",
       " 'https://fbref.com/en/squads/d53c0b06/Lyon-Stats',\n",
       " 'https://fbref.com/en/squads/f83960ae/Metz-Stats',\n",
       " 'https://fbref.com/en/squads/3f8c4b5f/Toulouse-Stats',\n",
       " 'https://fbref.com/en/squads/d2c87802/Lorient-Stats',\n",
       " 'https://fbref.com/en/squads/d9676424/Clermont-Foot-Stats']"
      ]
     },
     "execution_count": 6,
     "metadata": {},
     "output_type": "execute_result"
    }
   ],
   "source": [
    "url_equipes"
   ]
  },
  {
   "cell_type": "code",
   "execution_count": 10,
   "metadata": {},
   "outputs": [],
   "source": [
    "team_response = requests.get(url_equipes[0], headers=headers)\n",
    "\n",
    "soup_team = BeautifulSoup(team_response.text, 'html.parser')\n",
    "\n",
    "url_stats = {\n",
    "    f\"https://fbref.com{a.get('href')}\" \n",
    "    for a in soup_team.find_all(\"a\") \n",
    "    if \"matchlogs/all_comps\" in a.get('href', '') and \n",
    "       any(substring in a.get('href', '') for substring in [\"passing/\", \"shooting\", \"possession/\", \"defense/\", \"keeper\"])\n",
    "}\n"
   ]
  },
  {
   "cell_type": "code",
   "execution_count": 11,
   "metadata": {},
   "outputs": [
    {
     "data": {
      "text/plain": [
       "{'https://fbref.com/en/squads/e2d8892c/2023-2024/matchlogs/all_comps/defense/Paris-Saint-Germain-Match-Logs-All-Competitions',\n",
       " 'https://fbref.com/en/squads/e2d8892c/2023-2024/matchlogs/all_comps/keeper/Paris-Saint-Germain-Match-Logs-All-Competitions',\n",
       " 'https://fbref.com/en/squads/e2d8892c/2023-2024/matchlogs/all_comps/passing/Paris-Saint-Germain-Match-Logs-All-Competitions',\n",
       " 'https://fbref.com/en/squads/e2d8892c/2023-2024/matchlogs/all_comps/possession/Paris-Saint-Germain-Match-Logs-All-Competitions',\n",
       " 'https://fbref.com/en/squads/e2d8892c/2023-2024/matchlogs/all_comps/shooting/Paris-Saint-Germain-Match-Logs-All-Competitions'}"
      ]
     },
     "execution_count": 11,
     "metadata": {},
     "output_type": "execute_result"
    }
   ],
   "source": [
    "url_stats"
   ]
  }
 ],
 "metadata": {
  "kernelspec": {
   "display_name": "base",
   "language": "python",
   "name": "python3"
  },
  "language_info": {
   "codemirror_mode": {
    "name": "ipython",
    "version": 3
   },
   "file_extension": ".py",
   "mimetype": "text/x-python",
   "name": "python",
   "nbconvert_exporter": "python",
   "pygments_lexer": "ipython3",
   "version": "3.10.13"
  }
 },
 "nbformat": 4,
 "nbformat_minor": 2
}
