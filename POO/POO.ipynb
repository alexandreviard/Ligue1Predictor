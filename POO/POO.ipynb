{
 "cells": [
  {
   "cell_type": "code",
   "execution_count": 37,
   "metadata": {},
   "outputs": [],
   "source": [
    "import pandas as pd\n",
    "import os\n",
    "import datetime\n",
    "import time\n",
    "import requests\n",
    "from bs4 import BeautifulSoup\n",
    "from PIL import Image\n",
    "import io\n",
    "\n",
    "class FootballDataScraper:\n",
    "    def __init__(self, config_file):\n",
    "        self.config_file = config_file\n",
    "        self.headers = {'User-Agent': 'Mozilla/5.0'}\n",
    "        self.championnats = self.load_configs()\n",
    "        self.data_folder = \"Database\"\n",
    "        self.logos_folder = \"Logos\"\n",
    "        self.last_request_time = None\n",
    "        self.request_interval = 3  # secondes\n",
    "        self.max_seasons = 6\n",
    "\n",
    "    def load_configs(self):\n",
    "        # loading config of championship containing which championship are used and their urls\n",
    "        return pd.read_csv(self.config_file)\n",
    "\n",
    "    def scrape_or_update(self):\n",
    "        all_data = {}\n",
    "        for _, config in self.championnats.iterrows():\n",
    "            championnat = config['Championnat']\n",
    "            url = config['URL']\n",
    "            csv_file_path = os.path.join(self.data_folder, f\"{championnat}_data.csv\")\n",
    "\n",
    "            if os.path.exists(csv_file_path):\n",
    "                data = pd.read_csv(csv_file_path)\n",
    "                last_update = pd.to_datetime((data['Date'] + ' ' + data['Time']).max())\n",
    "                if datetime.datetime.now() > last_update + datetime.timedelta(hours = 2):\n",
    "                    updated_data = self.update_data(championnat, url, data)\n",
    "                    all_data[championnat] = updated_data\n",
    "            else:\n",
    "                data = self.scrape_data(url)\n",
    "                all_data[championnat] = data\n",
    "\n",
    "            self.save_data(all_data[championnat], csv_file_path)\n",
    "        return all_data\n",
    "\n",
    "    def scrape_data(self, url):\n",
    "        \n",
    "        all_seasons_data = []\n",
    "\n",
    "        for saison in range(self.max_seasons):\n",
    "\n",
    "            self.rate_limit()\n",
    "\n",
    "            response = requests.get(url, headers=self.headers)\n",
    "            soup = BeautifulSoup(response.text, 'html.parser')\n",
    "            \n",
    "            teams_urls = [\"https://fbref.com\" + equipe.get(\"href\") \n",
    "                        for equipe in soup.select(\"table.stats_table\")[0].find_all(\"a\") \n",
    "                        if \"squads\" in equipe.get(\"href\", \"\")]\n",
    "\n",
    "            url = f\"https://fbref.com{soup.find('a', class_='button2 prev').get('href')}\"\n",
    "\n",
    "            for team_url in teams_urls:\n",
    "\n",
    "                self.rate_limit()\n",
    "                team_response = requests.get(team_url, headers=self.headers)\n",
    "                team_data = pd.read_html(team_response.text, match=\"Scores\")[0]\n",
    "                team_name = team_url.split(\"/\")[-1].replace(\"-Stats\", \"\").replace(\"-\", \" \")\n",
    "                team_data[\"Team\"] = team_name\n",
    "\n",
    "                self.scrape_and_save_logo(team_url, team_name)\n",
    "\n",
    "                # Récupération des URLs pour les statistiques détaillées\n",
    "                url_stats = {\n",
    "                    f\"https://fbref.com{a.get('href')}\" \n",
    "                    for a in BeautifulSoup(team_response.text, 'html.parser').find_all(\"a\") \n",
    "                    if \"matchlogs/all_comps\" in a.get('href', '') and \n",
    "                    any(substring in a.get('href', '') for substring in [\"passing/\", \"shooting\", \"possession/\", \"defense/\", \"keeper\"])\n",
    "                }\n",
    "\n",
    "                # Traitement des statistiques détaillées\n",
    "                for stats_url in url_stats:\n",
    "\n",
    "                    self.rate_limit()\n",
    "\n",
    "                    stats_response = requests.get(stats_url, headers=self.headers)\n",
    "\n",
    "                    detailed_stats = pd.read_html(stats_response.text)[0]\n",
    "\n",
    "                    # Nettoyage des colonnes du DataFrame\n",
    "                    if detailed_stats.columns.nlevels > 1:\n",
    "                        detailed_stats.columns = [f\"{col}_{branch}\" \n",
    "                                                if \"For\" not in col and \"Unnamed:\" not in col \n",
    "                                                else f\"{branch}\" \n",
    "                                                for col, branch in detailed_stats.columns]\n",
    "\n",
    "                    columns_to_drop = [\"Time\", \"Comp\", \"Round\", \"Day\", \"Venue\", \"Result\", \"GF\", \"GA\", \"Opponent\", \"Poss\"] + [col for col in detailed_stats.columns if 'Report' in col]\n",
    "                    columns_to_drop = [col for col in columns_to_drop if col in detailed_stats.columns]\n",
    "\n",
    "                    detailed_stats.drop(columns_to_drop, axis=1, inplace=True)\n",
    "\n",
    "                    team_data = team_data.merge(detailed_stats, on=\"Date\")\n",
    "\n",
    "                # Ajout des données de l'équipe au résultat global\n",
    "                all_seasons_data.append(team_data)\n",
    "\n",
    "        return pd.concat(all_seasons_data, ignore_index=True)\n",
    "\n",
    "    def update_data(self, championnat, url, existing_data):\n",
    "\n",
    "        latest_data = []\n",
    "        futur_matchweek = []\n",
    "\n",
    "        response = requests.get(url, headers=self.headers)\n",
    "        soup = BeautifulSoup(response.text, 'html.parser')\n",
    "\n",
    "        teams_urls = [\"https://fbref.com\" + equipe.get(\"href\") \n",
    "                    for equipe in soup.select(\"table.stats_table\")[0].find_all(\"a\") \n",
    "                    if \"squads\" in equipe.get(\"href\", \"\")]\n",
    "\n",
    "        # Traitement similaire à scrape_ligue1_data() pour chaque équipe\n",
    "        for team_url in teams_urls:\n",
    "            rate_limit()\n",
    "            team_response = requests.get(team_url, headers=headers)\n",
    "            team_data = pd.read_html(team_response.text, match=\"Scores\")[0]\n",
    "            team_name = team_url.split(\"/\")[-1].replace(\"-Stats\", \"\").replace(\"-\", \" \")\n",
    "            team_data[\"Team\"] = team_name\n",
    "\n",
    "            futur_matchweek.append(team_data)\n",
    "\n",
    "            # Récupération des URLs pour les statistiques détaillées\n",
    "            url_stats = {\n",
    "                f\"https://fbref.com{a.get('href')}\" \n",
    "                for a in BeautifulSoup(team_response.text, 'html.parser').find_all(\"a\") \n",
    "                if \"matchlogs/all_comps\" in a.get('href', '') and \n",
    "                any(substring in a.get('href', '') for substring in [\"passing/\", \"shooting\", \"possession/\", \"defense/\", \"keeper\"])\n",
    "            }\n",
    "\n",
    "            for stats_url in url_stats:\n",
    "                self.rate_limit()\n",
    "\n",
    "                    stats_response = requests.get(stats_url, headers=self.headers)\n",
    "\n",
    "                    detailed_stats = pd.read_html(stats_response.text)[0]\n",
    "\n",
    "                    # Nettoyage des colonnes du DataFrame\n",
    "                    if detailed_stats.columns.nlevels > 1:\n",
    "                        detailed_stats.columns = [f\"{col}_{branch}\" \n",
    "                                                if \"For\" not in col and \"Unnamed:\" not in col \n",
    "                                                else f\"{branch}\" \n",
    "                                                for col, branch in detailed_stats.columns]\n",
    "\n",
    "                    columns_to_drop = [\"Time\", \"Comp\", \"Round\", \"Day\", \"Venue\", \"Result\", \"GF\", \"GA\", \"Opponent\", \"Poss\"] + [col for col in detailed_stats.columns if 'Report' in col]\n",
    "                    columns_to_drop = [col for col in columns_to_drop if col in detailed_stats.columns]\n",
    "\n",
    "                    detailed_stats.drop(columns_to_drop, axis=1, inplace=True)\n",
    "\n",
    "                    team_data = team_data.merge(detailed_stats, on=\"Date\")\n",
    "\n",
    "                # Ajout des données de l'équipe au résultat global\n",
    "                all_seasons_data.append(team_data)\n",
    "\n",
    "        # Retourne les données concaténées de toutes les équipes\n",
    "        return pd.concat(latest_data, ignore_index=True), pd.concat(futur_matchweek, ignore_index=True)\n",
    "\n",
    "    def save_data(self, data, file_path):\n",
    "        # Enregistrer les données dans un fichier CSV\n",
    "        data.to_csv(file_path, index=False)\n",
    "\n",
    "    def rate_limit(self):\n",
    "        if self.last_request_time is not None:\n",
    "            elapsed_time = time.time() - self.last_request_time\n",
    "            if elapsed_time < self.request_interval:\n",
    "                time.sleep(self.request_interval - elapsed_time)\n",
    "        self.last_request_time = time.time()\n",
    "\n",
    "    def access_data(self, championnat):\n",
    "        csv_file_path = os.path.join(self.data_folder, f\"{championnat}_data.csv\")\n",
    "        \n",
    "        if os.path.exists(csv_file_path):\n",
    "            data = pd.read_csv(csv_file_path)\n",
    "            return data\n",
    "        else:\n",
    "            print(f\"Les données pour le championnat '{championnat}' n'existent pas.\")\n",
    "\n",
    "    def scrape_and_save_logo(self, page_url, file_name):\n",
    "\n",
    "        file_path = os.path.join(self.logos_folder, file_name + '.png')\n",
    "        if os.path.exists(file_path):\n",
    "            print(f\"Le logo existe déjà à {file_path}\")\n",
    "            return\n",
    "\n",
    "        try:\n",
    "            self.rate_limit()\n",
    "            response = requests.get(page_url, headers=self.headers)\n",
    "            soup = BeautifulSoup(response.text, 'html.parser')\n",
    "            logo_img = soup.find('img', {'class': 'teamlogo'})\n",
    "\n",
    "            if logo_img and logo_img.get('src'):\n",
    "                logo_url = logo_img['src']\n",
    "                self.rate_limit()\n",
    "                img_response = requests.get(logo_url)\n",
    "\n",
    "                if img_response.status_code == 200:\n",
    "                    # Convertir l'image en PNG\n",
    "                    image = Image.open(io.BytesIO(img_response.content))\n",
    "                    file_path = os.path.join(self.logos_folder, file_name)\n",
    "                    if not file_path.endswith('.png'):\n",
    "                        file_path += '.png'\n",
    "                    image.save(file_path, 'PNG')\n",
    "                    print(f\"Logo sauvegardé en PNG à {file_path}\")\n",
    "                else:\n",
    "                    print(\"Erreur lors du téléchargement de l'image\")\n",
    "            else:\n",
    "                print(\"Logo non trouvé sur la page\")\n",
    "\n",
    "        except Exception as e:\n",
    "            print(f\"Une erreur s'est produite : {e}\")\n",
    "\n",
    "            \n",
    "\n",
    "\n",
    "    \n",
    "\n",
    "\n",
    "\n",
    "\n",
    "\n",
    "\n",
    "\n"
   ]
  },
  {
   "cell_type": "code",
   "execution_count": 38,
   "metadata": {},
   "outputs": [
    {
     "name": "stderr",
     "output_type": "stream",
     "text": [
      "/tmp/ipykernel_23442/533267115.py:66: FutureWarning: Passing literal html to 'read_html' is deprecated and will be removed in a future version. To read from a literal string, wrap it in a 'StringIO' object.\n",
      "  team_data = pd.read_html(team_response.text, match=\"Scores\")[0]\n"
     ]
    },
    {
     "name": "stdout",
     "output_type": "stream",
     "text": [
      "Logos/Girona.png\n",
      "Le logo existe déjà à Logos/Girona.png\n"
     ]
    },
    {
     "name": "stderr",
     "output_type": "stream",
     "text": [
      "/tmp/ipykernel_23442/533267115.py:87: FutureWarning: Passing literal html to 'read_html' is deprecated and will be removed in a future version. To read from a literal string, wrap it in a 'StringIO' object.\n",
      "  detailed_stats = pd.read_html(stats_response.text)[0]\n",
      "/tmp/ipykernel_23442/533267115.py:87: FutureWarning: Passing literal html to 'read_html' is deprecated and will be removed in a future version. To read from a literal string, wrap it in a 'StringIO' object.\n",
      "  detailed_stats = pd.read_html(stats_response.text)[0]\n",
      "/tmp/ipykernel_23442/533267115.py:87: FutureWarning: Passing literal html to 'read_html' is deprecated and will be removed in a future version. To read from a literal string, wrap it in a 'StringIO' object.\n",
      "  detailed_stats = pd.read_html(stats_response.text)[0]\n",
      "/tmp/ipykernel_23442/533267115.py:87: FutureWarning: Passing literal html to 'read_html' is deprecated and will be removed in a future version. To read from a literal string, wrap it in a 'StringIO' object.\n",
      "  detailed_stats = pd.read_html(stats_response.text)[0]\n",
      "/tmp/ipykernel_23442/533267115.py:87: FutureWarning: Passing literal html to 'read_html' is deprecated and will be removed in a future version. To read from a literal string, wrap it in a 'StringIO' object.\n",
      "  detailed_stats = pd.read_html(stats_response.text)[0]\n",
      "/tmp/ipykernel_23442/533267115.py:66: FutureWarning: Passing literal html to 'read_html' is deprecated and will be removed in a future version. To read from a literal string, wrap it in a 'StringIO' object.\n",
      "  team_data = pd.read_html(team_response.text, match=\"Scores\")[0]\n"
     ]
    },
    {
     "name": "stdout",
     "output_type": "stream",
     "text": [
      "Logos/Real Madrid.png\n",
      "Le logo existe déjà à Logos/Real Madrid.png\n"
     ]
    },
    {
     "name": "stderr",
     "output_type": "stream",
     "text": [
      "/tmp/ipykernel_23442/533267115.py:87: FutureWarning: Passing literal html to 'read_html' is deprecated and will be removed in a future version. To read from a literal string, wrap it in a 'StringIO' object.\n",
      "  detailed_stats = pd.read_html(stats_response.text)[0]\n",
      "/tmp/ipykernel_23442/533267115.py:87: FutureWarning: Passing literal html to 'read_html' is deprecated and will be removed in a future version. To read from a literal string, wrap it in a 'StringIO' object.\n",
      "  detailed_stats = pd.read_html(stats_response.text)[0]\n",
      "/tmp/ipykernel_23442/533267115.py:87: FutureWarning: Passing literal html to 'read_html' is deprecated and will be removed in a future version. To read from a literal string, wrap it in a 'StringIO' object.\n",
      "  detailed_stats = pd.read_html(stats_response.text)[0]\n",
      "/tmp/ipykernel_23442/533267115.py:87: FutureWarning: Passing literal html to 'read_html' is deprecated and will be removed in a future version. To read from a literal string, wrap it in a 'StringIO' object.\n",
      "  detailed_stats = pd.read_html(stats_response.text)[0]\n",
      "/tmp/ipykernel_23442/533267115.py:87: FutureWarning: Passing literal html to 'read_html' is deprecated and will be removed in a future version. To read from a literal string, wrap it in a 'StringIO' object.\n",
      "  detailed_stats = pd.read_html(stats_response.text)[0]\n",
      "/tmp/ipykernel_23442/533267115.py:66: FutureWarning: Passing literal html to 'read_html' is deprecated and will be removed in a future version. To read from a literal string, wrap it in a 'StringIO' object.\n",
      "  team_data = pd.read_html(team_response.text, match=\"Scores\")[0]\n"
     ]
    },
    {
     "name": "stdout",
     "output_type": "stream",
     "text": [
      "Logos/Athletic Club.png\n",
      "Logo sauvegardé en PNG à Logos/Athletic Club.png\n"
     ]
    },
    {
     "name": "stderr",
     "output_type": "stream",
     "text": [
      "/tmp/ipykernel_23442/533267115.py:87: FutureWarning: Passing literal html to 'read_html' is deprecated and will be removed in a future version. To read from a literal string, wrap it in a 'StringIO' object.\n",
      "  detailed_stats = pd.read_html(stats_response.text)[0]\n",
      "/tmp/ipykernel_23442/533267115.py:87: FutureWarning: Passing literal html to 'read_html' is deprecated and will be removed in a future version. To read from a literal string, wrap it in a 'StringIO' object.\n",
      "  detailed_stats = pd.read_html(stats_response.text)[0]\n",
      "/tmp/ipykernel_23442/533267115.py:87: FutureWarning: Passing literal html to 'read_html' is deprecated and will be removed in a future version. To read from a literal string, wrap it in a 'StringIO' object.\n",
      "  detailed_stats = pd.read_html(stats_response.text)[0]\n",
      "/tmp/ipykernel_23442/533267115.py:87: FutureWarning: Passing literal html to 'read_html' is deprecated and will be removed in a future version. To read from a literal string, wrap it in a 'StringIO' object.\n",
      "  detailed_stats = pd.read_html(stats_response.text)[0]\n",
      "/tmp/ipykernel_23442/533267115.py:87: FutureWarning: Passing literal html to 'read_html' is deprecated and will be removed in a future version. To read from a literal string, wrap it in a 'StringIO' object.\n",
      "  detailed_stats = pd.read_html(stats_response.text)[0]\n",
      "/tmp/ipykernel_23442/533267115.py:66: FutureWarning: Passing literal html to 'read_html' is deprecated and will be removed in a future version. To read from a literal string, wrap it in a 'StringIO' object.\n",
      "  team_data = pd.read_html(team_response.text, match=\"Scores\")[0]\n"
     ]
    },
    {
     "name": "stdout",
     "output_type": "stream",
     "text": [
      "Logos/Barcelona.png\n",
      "Logo sauvegardé en PNG à Logos/Barcelona.png\n"
     ]
    },
    {
     "name": "stderr",
     "output_type": "stream",
     "text": [
      "/tmp/ipykernel_23442/533267115.py:87: FutureWarning: Passing literal html to 'read_html' is deprecated and will be removed in a future version. To read from a literal string, wrap it in a 'StringIO' object.\n",
      "  detailed_stats = pd.read_html(stats_response.text)[0]\n",
      "/tmp/ipykernel_23442/533267115.py:87: FutureWarning: Passing literal html to 'read_html' is deprecated and will be removed in a future version. To read from a literal string, wrap it in a 'StringIO' object.\n",
      "  detailed_stats = pd.read_html(stats_response.text)[0]\n",
      "/tmp/ipykernel_23442/533267115.py:87: FutureWarning: Passing literal html to 'read_html' is deprecated and will be removed in a future version. To read from a literal string, wrap it in a 'StringIO' object.\n",
      "  detailed_stats = pd.read_html(stats_response.text)[0]\n",
      "/tmp/ipykernel_23442/533267115.py:87: FutureWarning: Passing literal html to 'read_html' is deprecated and will be removed in a future version. To read from a literal string, wrap it in a 'StringIO' object.\n",
      "  detailed_stats = pd.read_html(stats_response.text)[0]\n",
      "/tmp/ipykernel_23442/533267115.py:87: FutureWarning: Passing literal html to 'read_html' is deprecated and will be removed in a future version. To read from a literal string, wrap it in a 'StringIO' object.\n",
      "  detailed_stats = pd.read_html(stats_response.text)[0]\n",
      "/tmp/ipykernel_23442/533267115.py:66: FutureWarning: Passing literal html to 'read_html' is deprecated and will be removed in a future version. To read from a literal string, wrap it in a 'StringIO' object.\n",
      "  team_data = pd.read_html(team_response.text, match=\"Scores\")[0]\n"
     ]
    },
    {
     "name": "stdout",
     "output_type": "stream",
     "text": [
      "Logos/Atletico Madrid.png\n",
      "Logo sauvegardé en PNG à Logos/Atletico Madrid.png\n"
     ]
    },
    {
     "name": "stderr",
     "output_type": "stream",
     "text": [
      "/tmp/ipykernel_23442/533267115.py:87: FutureWarning: Passing literal html to 'read_html' is deprecated and will be removed in a future version. To read from a literal string, wrap it in a 'StringIO' object.\n",
      "  detailed_stats = pd.read_html(stats_response.text)[0]\n",
      "/tmp/ipykernel_23442/533267115.py:87: FutureWarning: Passing literal html to 'read_html' is deprecated and will be removed in a future version. To read from a literal string, wrap it in a 'StringIO' object.\n",
      "  detailed_stats = pd.read_html(stats_response.text)[0]\n",
      "/tmp/ipykernel_23442/533267115.py:87: FutureWarning: Passing literal html to 'read_html' is deprecated and will be removed in a future version. To read from a literal string, wrap it in a 'StringIO' object.\n",
      "  detailed_stats = pd.read_html(stats_response.text)[0]\n",
      "/tmp/ipykernel_23442/533267115.py:87: FutureWarning: Passing literal html to 'read_html' is deprecated and will be removed in a future version. To read from a literal string, wrap it in a 'StringIO' object.\n",
      "  detailed_stats = pd.read_html(stats_response.text)[0]\n",
      "/tmp/ipykernel_23442/533267115.py:87: FutureWarning: Passing literal html to 'read_html' is deprecated and will be removed in a future version. To read from a literal string, wrap it in a 'StringIO' object.\n",
      "  detailed_stats = pd.read_html(stats_response.text)[0]\n",
      "/tmp/ipykernel_23442/533267115.py:66: FutureWarning: Passing literal html to 'read_html' is deprecated and will be removed in a future version. To read from a literal string, wrap it in a 'StringIO' object.\n",
      "  team_data = pd.read_html(team_response.text, match=\"Scores\")[0]\n"
     ]
    },
    {
     "name": "stdout",
     "output_type": "stream",
     "text": [
      "Logos/Real Sociedad.png\n",
      "Logo sauvegardé en PNG à Logos/Real Sociedad.png\n"
     ]
    },
    {
     "name": "stderr",
     "output_type": "stream",
     "text": [
      "/tmp/ipykernel_23442/533267115.py:87: FutureWarning: Passing literal html to 'read_html' is deprecated and will be removed in a future version. To read from a literal string, wrap it in a 'StringIO' object.\n",
      "  detailed_stats = pd.read_html(stats_response.text)[0]\n",
      "/tmp/ipykernel_23442/533267115.py:87: FutureWarning: Passing literal html to 'read_html' is deprecated and will be removed in a future version. To read from a literal string, wrap it in a 'StringIO' object.\n",
      "  detailed_stats = pd.read_html(stats_response.text)[0]\n",
      "/tmp/ipykernel_23442/533267115.py:87: FutureWarning: Passing literal html to 'read_html' is deprecated and will be removed in a future version. To read from a literal string, wrap it in a 'StringIO' object.\n",
      "  detailed_stats = pd.read_html(stats_response.text)[0]\n",
      "/tmp/ipykernel_23442/533267115.py:87: FutureWarning: Passing literal html to 'read_html' is deprecated and will be removed in a future version. To read from a literal string, wrap it in a 'StringIO' object.\n",
      "  detailed_stats = pd.read_html(stats_response.text)[0]\n",
      "/tmp/ipykernel_23442/533267115.py:87: FutureWarning: Passing literal html to 'read_html' is deprecated and will be removed in a future version. To read from a literal string, wrap it in a 'StringIO' object.\n",
      "  detailed_stats = pd.read_html(stats_response.text)[0]\n",
      "/tmp/ipykernel_23442/533267115.py:66: FutureWarning: Passing literal html to 'read_html' is deprecated and will be removed in a future version. To read from a literal string, wrap it in a 'StringIO' object.\n",
      "  team_data = pd.read_html(team_response.text, match=\"Scores\")[0]\n"
     ]
    },
    {
     "name": "stdout",
     "output_type": "stream",
     "text": [
      "Logos/Valencia.png\n",
      "Logo sauvegardé en PNG à Logos/Valencia.png\n"
     ]
    },
    {
     "name": "stderr",
     "output_type": "stream",
     "text": [
      "/tmp/ipykernel_23442/533267115.py:87: FutureWarning: Passing literal html to 'read_html' is deprecated and will be removed in a future version. To read from a literal string, wrap it in a 'StringIO' object.\n",
      "  detailed_stats = pd.read_html(stats_response.text)[0]\n",
      "/tmp/ipykernel_23442/533267115.py:87: FutureWarning: Passing literal html to 'read_html' is deprecated and will be removed in a future version. To read from a literal string, wrap it in a 'StringIO' object.\n",
      "  detailed_stats = pd.read_html(stats_response.text)[0]\n",
      "/tmp/ipykernel_23442/533267115.py:87: FutureWarning: Passing literal html to 'read_html' is deprecated and will be removed in a future version. To read from a literal string, wrap it in a 'StringIO' object.\n",
      "  detailed_stats = pd.read_html(stats_response.text)[0]\n",
      "/tmp/ipykernel_23442/533267115.py:87: FutureWarning: Passing literal html to 'read_html' is deprecated and will be removed in a future version. To read from a literal string, wrap it in a 'StringIO' object.\n",
      "  detailed_stats = pd.read_html(stats_response.text)[0]\n",
      "/tmp/ipykernel_23442/533267115.py:87: FutureWarning: Passing literal html to 'read_html' is deprecated and will be removed in a future version. To read from a literal string, wrap it in a 'StringIO' object.\n",
      "  detailed_stats = pd.read_html(stats_response.text)[0]\n",
      "/tmp/ipykernel_23442/533267115.py:66: FutureWarning: Passing literal html to 'read_html' is deprecated and will be removed in a future version. To read from a literal string, wrap it in a 'StringIO' object.\n",
      "  team_data = pd.read_html(team_response.text, match=\"Scores\")[0]\n"
     ]
    },
    {
     "name": "stdout",
     "output_type": "stream",
     "text": [
      "Logos/Las Palmas.png\n",
      "Logo sauvegardé en PNG à Logos/Las Palmas.png\n"
     ]
    },
    {
     "name": "stderr",
     "output_type": "stream",
     "text": [
      "/tmp/ipykernel_23442/533267115.py:87: FutureWarning: Passing literal html to 'read_html' is deprecated and will be removed in a future version. To read from a literal string, wrap it in a 'StringIO' object.\n",
      "  detailed_stats = pd.read_html(stats_response.text)[0]\n",
      "/tmp/ipykernel_23442/533267115.py:87: FutureWarning: Passing literal html to 'read_html' is deprecated and will be removed in a future version. To read from a literal string, wrap it in a 'StringIO' object.\n",
      "  detailed_stats = pd.read_html(stats_response.text)[0]\n",
      "/tmp/ipykernel_23442/533267115.py:87: FutureWarning: Passing literal html to 'read_html' is deprecated and will be removed in a future version. To read from a literal string, wrap it in a 'StringIO' object.\n",
      "  detailed_stats = pd.read_html(stats_response.text)[0]\n",
      "/tmp/ipykernel_23442/533267115.py:87: FutureWarning: Passing literal html to 'read_html' is deprecated and will be removed in a future version. To read from a literal string, wrap it in a 'StringIO' object.\n",
      "  detailed_stats = pd.read_html(stats_response.text)[0]\n",
      "/tmp/ipykernel_23442/533267115.py:87: FutureWarning: Passing literal html to 'read_html' is deprecated and will be removed in a future version. To read from a literal string, wrap it in a 'StringIO' object.\n",
      "  detailed_stats = pd.read_html(stats_response.text)[0]\n",
      "/tmp/ipykernel_23442/533267115.py:66: FutureWarning: Passing literal html to 'read_html' is deprecated and will be removed in a future version. To read from a literal string, wrap it in a 'StringIO' object.\n",
      "  team_data = pd.read_html(team_response.text, match=\"Scores\")[0]\n"
     ]
    },
    {
     "name": "stdout",
     "output_type": "stream",
     "text": [
      "Logos/Real Betis.png\n",
      "Logo sauvegardé en PNG à Logos/Real Betis.png\n"
     ]
    },
    {
     "name": "stderr",
     "output_type": "stream",
     "text": [
      "/tmp/ipykernel_23442/533267115.py:87: FutureWarning: Passing literal html to 'read_html' is deprecated and will be removed in a future version. To read from a literal string, wrap it in a 'StringIO' object.\n",
      "  detailed_stats = pd.read_html(stats_response.text)[0]\n",
      "/tmp/ipykernel_23442/533267115.py:87: FutureWarning: Passing literal html to 'read_html' is deprecated and will be removed in a future version. To read from a literal string, wrap it in a 'StringIO' object.\n",
      "  detailed_stats = pd.read_html(stats_response.text)[0]\n",
      "/tmp/ipykernel_23442/533267115.py:87: FutureWarning: Passing literal html to 'read_html' is deprecated and will be removed in a future version. To read from a literal string, wrap it in a 'StringIO' object.\n",
      "  detailed_stats = pd.read_html(stats_response.text)[0]\n",
      "/tmp/ipykernel_23442/533267115.py:87: FutureWarning: Passing literal html to 'read_html' is deprecated and will be removed in a future version. To read from a literal string, wrap it in a 'StringIO' object.\n",
      "  detailed_stats = pd.read_html(stats_response.text)[0]\n",
      "/tmp/ipykernel_23442/533267115.py:87: FutureWarning: Passing literal html to 'read_html' is deprecated and will be removed in a future version. To read from a literal string, wrap it in a 'StringIO' object.\n",
      "  detailed_stats = pd.read_html(stats_response.text)[0]\n",
      "/tmp/ipykernel_23442/533267115.py:66: FutureWarning: Passing literal html to 'read_html' is deprecated and will be removed in a future version. To read from a literal string, wrap it in a 'StringIO' object.\n",
      "  team_data = pd.read_html(team_response.text, match=\"Scores\")[0]\n"
     ]
    },
    {
     "name": "stdout",
     "output_type": "stream",
     "text": [
      "Logos/Getafe.png\n",
      "Logo sauvegardé en PNG à Logos/Getafe.png\n"
     ]
    },
    {
     "name": "stderr",
     "output_type": "stream",
     "text": [
      "/tmp/ipykernel_23442/533267115.py:87: FutureWarning: Passing literal html to 'read_html' is deprecated and will be removed in a future version. To read from a literal string, wrap it in a 'StringIO' object.\n",
      "  detailed_stats = pd.read_html(stats_response.text)[0]\n",
      "/tmp/ipykernel_23442/533267115.py:87: FutureWarning: Passing literal html to 'read_html' is deprecated and will be removed in a future version. To read from a literal string, wrap it in a 'StringIO' object.\n",
      "  detailed_stats = pd.read_html(stats_response.text)[0]\n",
      "/tmp/ipykernel_23442/533267115.py:87: FutureWarning: Passing literal html to 'read_html' is deprecated and will be removed in a future version. To read from a literal string, wrap it in a 'StringIO' object.\n",
      "  detailed_stats = pd.read_html(stats_response.text)[0]\n",
      "/tmp/ipykernel_23442/533267115.py:87: FutureWarning: Passing literal html to 'read_html' is deprecated and will be removed in a future version. To read from a literal string, wrap it in a 'StringIO' object.\n",
      "  detailed_stats = pd.read_html(stats_response.text)[0]\n",
      "/tmp/ipykernel_23442/533267115.py:87: FutureWarning: Passing literal html to 'read_html' is deprecated and will be removed in a future version. To read from a literal string, wrap it in a 'StringIO' object.\n",
      "  detailed_stats = pd.read_html(stats_response.text)[0]\n",
      "/tmp/ipykernel_23442/533267115.py:66: FutureWarning: Passing literal html to 'read_html' is deprecated and will be removed in a future version. To read from a literal string, wrap it in a 'StringIO' object.\n",
      "  team_data = pd.read_html(team_response.text, match=\"Scores\")[0]\n"
     ]
    },
    {
     "name": "stdout",
     "output_type": "stream",
     "text": [
      "Logos/Alaves.png\n",
      "Logo sauvegardé en PNG à Logos/Alaves.png\n"
     ]
    },
    {
     "name": "stderr",
     "output_type": "stream",
     "text": [
      "/tmp/ipykernel_23442/533267115.py:87: FutureWarning: Passing literal html to 'read_html' is deprecated and will be removed in a future version. To read from a literal string, wrap it in a 'StringIO' object.\n",
      "  detailed_stats = pd.read_html(stats_response.text)[0]\n",
      "/tmp/ipykernel_23442/533267115.py:87: FutureWarning: Passing literal html to 'read_html' is deprecated and will be removed in a future version. To read from a literal string, wrap it in a 'StringIO' object.\n",
      "  detailed_stats = pd.read_html(stats_response.text)[0]\n",
      "/tmp/ipykernel_23442/533267115.py:87: FutureWarning: Passing literal html to 'read_html' is deprecated and will be removed in a future version. To read from a literal string, wrap it in a 'StringIO' object.\n",
      "  detailed_stats = pd.read_html(stats_response.text)[0]\n",
      "/tmp/ipykernel_23442/533267115.py:87: FutureWarning: Passing literal html to 'read_html' is deprecated and will be removed in a future version. To read from a literal string, wrap it in a 'StringIO' object.\n",
      "  detailed_stats = pd.read_html(stats_response.text)[0]\n",
      "/tmp/ipykernel_23442/533267115.py:87: FutureWarning: Passing literal html to 'read_html' is deprecated and will be removed in a future version. To read from a literal string, wrap it in a 'StringIO' object.\n",
      "  detailed_stats = pd.read_html(stats_response.text)[0]\n",
      "/tmp/ipykernel_23442/533267115.py:66: FutureWarning: Passing literal html to 'read_html' is deprecated and will be removed in a future version. To read from a literal string, wrap it in a 'StringIO' object.\n",
      "  team_data = pd.read_html(team_response.text, match=\"Scores\")[0]\n"
     ]
    },
    {
     "name": "stdout",
     "output_type": "stream",
     "text": [
      "Logos/Rayo Vallecano.png\n",
      "Logo sauvegardé en PNG à Logos/Rayo Vallecano.png\n"
     ]
    },
    {
     "name": "stderr",
     "output_type": "stream",
     "text": [
      "/tmp/ipykernel_23442/533267115.py:87: FutureWarning: Passing literal html to 'read_html' is deprecated and will be removed in a future version. To read from a literal string, wrap it in a 'StringIO' object.\n",
      "  detailed_stats = pd.read_html(stats_response.text)[0]\n",
      "/tmp/ipykernel_23442/533267115.py:87: FutureWarning: Passing literal html to 'read_html' is deprecated and will be removed in a future version. To read from a literal string, wrap it in a 'StringIO' object.\n",
      "  detailed_stats = pd.read_html(stats_response.text)[0]\n",
      "/tmp/ipykernel_23442/533267115.py:87: FutureWarning: Passing literal html to 'read_html' is deprecated and will be removed in a future version. To read from a literal string, wrap it in a 'StringIO' object.\n",
      "  detailed_stats = pd.read_html(stats_response.text)[0]\n",
      "/tmp/ipykernel_23442/533267115.py:87: FutureWarning: Passing literal html to 'read_html' is deprecated and will be removed in a future version. To read from a literal string, wrap it in a 'StringIO' object.\n",
      "  detailed_stats = pd.read_html(stats_response.text)[0]\n",
      "/tmp/ipykernel_23442/533267115.py:87: FutureWarning: Passing literal html to 'read_html' is deprecated and will be removed in a future version. To read from a literal string, wrap it in a 'StringIO' object.\n",
      "  detailed_stats = pd.read_html(stats_response.text)[0]\n",
      "/tmp/ipykernel_23442/533267115.py:66: FutureWarning: Passing literal html to 'read_html' is deprecated and will be removed in a future version. To read from a literal string, wrap it in a 'StringIO' object.\n",
      "  team_data = pd.read_html(team_response.text, match=\"Scores\")[0]\n"
     ]
    },
    {
     "name": "stdout",
     "output_type": "stream",
     "text": [
      "Logos/Osasuna.png\n",
      "Logo sauvegardé en PNG à Logos/Osasuna.png\n"
     ]
    },
    {
     "name": "stderr",
     "output_type": "stream",
     "text": [
      "/tmp/ipykernel_23442/533267115.py:87: FutureWarning: Passing literal html to 'read_html' is deprecated and will be removed in a future version. To read from a literal string, wrap it in a 'StringIO' object.\n",
      "  detailed_stats = pd.read_html(stats_response.text)[0]\n",
      "/tmp/ipykernel_23442/533267115.py:87: FutureWarning: Passing literal html to 'read_html' is deprecated and will be removed in a future version. To read from a literal string, wrap it in a 'StringIO' object.\n",
      "  detailed_stats = pd.read_html(stats_response.text)[0]\n",
      "/tmp/ipykernel_23442/533267115.py:87: FutureWarning: Passing literal html to 'read_html' is deprecated and will be removed in a future version. To read from a literal string, wrap it in a 'StringIO' object.\n",
      "  detailed_stats = pd.read_html(stats_response.text)[0]\n",
      "/tmp/ipykernel_23442/533267115.py:87: FutureWarning: Passing literal html to 'read_html' is deprecated and will be removed in a future version. To read from a literal string, wrap it in a 'StringIO' object.\n",
      "  detailed_stats = pd.read_html(stats_response.text)[0]\n",
      "/tmp/ipykernel_23442/533267115.py:87: FutureWarning: Passing literal html to 'read_html' is deprecated and will be removed in a future version. To read from a literal string, wrap it in a 'StringIO' object.\n",
      "  detailed_stats = pd.read_html(stats_response.text)[0]\n",
      "/tmp/ipykernel_23442/533267115.py:66: FutureWarning: Passing literal html to 'read_html' is deprecated and will be removed in a future version. To read from a literal string, wrap it in a 'StringIO' object.\n",
      "  team_data = pd.read_html(team_response.text, match=\"Scores\")[0]\n"
     ]
    },
    {
     "name": "stdout",
     "output_type": "stream",
     "text": [
      "Logos/Villarreal.png\n",
      "Logo sauvegardé en PNG à Logos/Villarreal.png\n"
     ]
    },
    {
     "name": "stderr",
     "output_type": "stream",
     "text": [
      "/tmp/ipykernel_23442/533267115.py:87: FutureWarning: Passing literal html to 'read_html' is deprecated and will be removed in a future version. To read from a literal string, wrap it in a 'StringIO' object.\n",
      "  detailed_stats = pd.read_html(stats_response.text)[0]\n",
      "/tmp/ipykernel_23442/533267115.py:87: FutureWarning: Passing literal html to 'read_html' is deprecated and will be removed in a future version. To read from a literal string, wrap it in a 'StringIO' object.\n",
      "  detailed_stats = pd.read_html(stats_response.text)[0]\n",
      "/tmp/ipykernel_23442/533267115.py:87: FutureWarning: Passing literal html to 'read_html' is deprecated and will be removed in a future version. To read from a literal string, wrap it in a 'StringIO' object.\n",
      "  detailed_stats = pd.read_html(stats_response.text)[0]\n",
      "/tmp/ipykernel_23442/533267115.py:87: FutureWarning: Passing literal html to 'read_html' is deprecated and will be removed in a future version. To read from a literal string, wrap it in a 'StringIO' object.\n",
      "  detailed_stats = pd.read_html(stats_response.text)[0]\n",
      "/tmp/ipykernel_23442/533267115.py:87: FutureWarning: Passing literal html to 'read_html' is deprecated and will be removed in a future version. To read from a literal string, wrap it in a 'StringIO' object.\n",
      "  detailed_stats = pd.read_html(stats_response.text)[0]\n",
      "/tmp/ipykernel_23442/533267115.py:66: FutureWarning: Passing literal html to 'read_html' is deprecated and will be removed in a future version. To read from a literal string, wrap it in a 'StringIO' object.\n",
      "  team_data = pd.read_html(team_response.text, match=\"Scores\")[0]\n"
     ]
    },
    {
     "name": "stdout",
     "output_type": "stream",
     "text": [
      "Logos/Mallorca.png\n",
      "Logo sauvegardé en PNG à Logos/Mallorca.png\n"
     ]
    },
    {
     "name": "stderr",
     "output_type": "stream",
     "text": [
      "/tmp/ipykernel_23442/533267115.py:87: FutureWarning: Passing literal html to 'read_html' is deprecated and will be removed in a future version. To read from a literal string, wrap it in a 'StringIO' object.\n",
      "  detailed_stats = pd.read_html(stats_response.text)[0]\n",
      "/tmp/ipykernel_23442/533267115.py:87: FutureWarning: Passing literal html to 'read_html' is deprecated and will be removed in a future version. To read from a literal string, wrap it in a 'StringIO' object.\n",
      "  detailed_stats = pd.read_html(stats_response.text)[0]\n",
      "/tmp/ipykernel_23442/533267115.py:87: FutureWarning: Passing literal html to 'read_html' is deprecated and will be removed in a future version. To read from a literal string, wrap it in a 'StringIO' object.\n",
      "  detailed_stats = pd.read_html(stats_response.text)[0]\n",
      "/tmp/ipykernel_23442/533267115.py:87: FutureWarning: Passing literal html to 'read_html' is deprecated and will be removed in a future version. To read from a literal string, wrap it in a 'StringIO' object.\n",
      "  detailed_stats = pd.read_html(stats_response.text)[0]\n",
      "/tmp/ipykernel_23442/533267115.py:87: FutureWarning: Passing literal html to 'read_html' is deprecated and will be removed in a future version. To read from a literal string, wrap it in a 'StringIO' object.\n",
      "  detailed_stats = pd.read_html(stats_response.text)[0]\n",
      "/tmp/ipykernel_23442/533267115.py:66: FutureWarning: Passing literal html to 'read_html' is deprecated and will be removed in a future version. To read from a literal string, wrap it in a 'StringIO' object.\n",
      "  team_data = pd.read_html(team_response.text, match=\"Scores\")[0]\n"
     ]
    },
    {
     "name": "stdout",
     "output_type": "stream",
     "text": [
      "Logos/Celta Vigo.png\n",
      "Logo sauvegardé en PNG à Logos/Celta Vigo.png\n"
     ]
    },
    {
     "name": "stderr",
     "output_type": "stream",
     "text": [
      "/tmp/ipykernel_23442/533267115.py:87: FutureWarning: Passing literal html to 'read_html' is deprecated and will be removed in a future version. To read from a literal string, wrap it in a 'StringIO' object.\n",
      "  detailed_stats = pd.read_html(stats_response.text)[0]\n",
      "/tmp/ipykernel_23442/533267115.py:87: FutureWarning: Passing literal html to 'read_html' is deprecated and will be removed in a future version. To read from a literal string, wrap it in a 'StringIO' object.\n",
      "  detailed_stats = pd.read_html(stats_response.text)[0]\n",
      "/tmp/ipykernel_23442/533267115.py:87: FutureWarning: Passing literal html to 'read_html' is deprecated and will be removed in a future version. To read from a literal string, wrap it in a 'StringIO' object.\n",
      "  detailed_stats = pd.read_html(stats_response.text)[0]\n",
      "/tmp/ipykernel_23442/533267115.py:87: FutureWarning: Passing literal html to 'read_html' is deprecated and will be removed in a future version. To read from a literal string, wrap it in a 'StringIO' object.\n",
      "  detailed_stats = pd.read_html(stats_response.text)[0]\n",
      "/tmp/ipykernel_23442/533267115.py:87: FutureWarning: Passing literal html to 'read_html' is deprecated and will be removed in a future version. To read from a literal string, wrap it in a 'StringIO' object.\n",
      "  detailed_stats = pd.read_html(stats_response.text)[0]\n",
      "/tmp/ipykernel_23442/533267115.py:66: FutureWarning: Passing literal html to 'read_html' is deprecated and will be removed in a future version. To read from a literal string, wrap it in a 'StringIO' object.\n",
      "  team_data = pd.read_html(team_response.text, match=\"Scores\")[0]\n"
     ]
    },
    {
     "name": "stdout",
     "output_type": "stream",
     "text": [
      "Logos/Sevilla.png\n",
      "Logo sauvegardé en PNG à Logos/Sevilla.png\n"
     ]
    },
    {
     "name": "stderr",
     "output_type": "stream",
     "text": [
      "/tmp/ipykernel_23442/533267115.py:87: FutureWarning: Passing literal html to 'read_html' is deprecated and will be removed in a future version. To read from a literal string, wrap it in a 'StringIO' object.\n",
      "  detailed_stats = pd.read_html(stats_response.text)[0]\n",
      "/tmp/ipykernel_23442/533267115.py:87: FutureWarning: Passing literal html to 'read_html' is deprecated and will be removed in a future version. To read from a literal string, wrap it in a 'StringIO' object.\n",
      "  detailed_stats = pd.read_html(stats_response.text)[0]\n",
      "/tmp/ipykernel_23442/533267115.py:87: FutureWarning: Passing literal html to 'read_html' is deprecated and will be removed in a future version. To read from a literal string, wrap it in a 'StringIO' object.\n",
      "  detailed_stats = pd.read_html(stats_response.text)[0]\n",
      "/tmp/ipykernel_23442/533267115.py:87: FutureWarning: Passing literal html to 'read_html' is deprecated and will be removed in a future version. To read from a literal string, wrap it in a 'StringIO' object.\n",
      "  detailed_stats = pd.read_html(stats_response.text)[0]\n",
      "/tmp/ipykernel_23442/533267115.py:87: FutureWarning: Passing literal html to 'read_html' is deprecated and will be removed in a future version. To read from a literal string, wrap it in a 'StringIO' object.\n",
      "  detailed_stats = pd.read_html(stats_response.text)[0]\n",
      "/tmp/ipykernel_23442/533267115.py:66: FutureWarning: Passing literal html to 'read_html' is deprecated and will be removed in a future version. To read from a literal string, wrap it in a 'StringIO' object.\n",
      "  team_data = pd.read_html(team_response.text, match=\"Scores\")[0]\n"
     ]
    },
    {
     "name": "stdout",
     "output_type": "stream",
     "text": [
      "Logos/Cadiz.png\n",
      "Logo sauvegardé en PNG à Logos/Cadiz.png\n"
     ]
    },
    {
     "name": "stderr",
     "output_type": "stream",
     "text": [
      "/tmp/ipykernel_23442/533267115.py:87: FutureWarning: Passing literal html to 'read_html' is deprecated and will be removed in a future version. To read from a literal string, wrap it in a 'StringIO' object.\n",
      "  detailed_stats = pd.read_html(stats_response.text)[0]\n",
      "/tmp/ipykernel_23442/533267115.py:87: FutureWarning: Passing literal html to 'read_html' is deprecated and will be removed in a future version. To read from a literal string, wrap it in a 'StringIO' object.\n",
      "  detailed_stats = pd.read_html(stats_response.text)[0]\n",
      "/tmp/ipykernel_23442/533267115.py:87: FutureWarning: Passing literal html to 'read_html' is deprecated and will be removed in a future version. To read from a literal string, wrap it in a 'StringIO' object.\n",
      "  detailed_stats = pd.read_html(stats_response.text)[0]\n",
      "/tmp/ipykernel_23442/533267115.py:87: FutureWarning: Passing literal html to 'read_html' is deprecated and will be removed in a future version. To read from a literal string, wrap it in a 'StringIO' object.\n",
      "  detailed_stats = pd.read_html(stats_response.text)[0]\n",
      "/tmp/ipykernel_23442/533267115.py:87: FutureWarning: Passing literal html to 'read_html' is deprecated and will be removed in a future version. To read from a literal string, wrap it in a 'StringIO' object.\n",
      "  detailed_stats = pd.read_html(stats_response.text)[0]\n",
      "/tmp/ipykernel_23442/533267115.py:66: FutureWarning: Passing literal html to 'read_html' is deprecated and will be removed in a future version. To read from a literal string, wrap it in a 'StringIO' object.\n",
      "  team_data = pd.read_html(team_response.text, match=\"Scores\")[0]\n"
     ]
    },
    {
     "name": "stdout",
     "output_type": "stream",
     "text": [
      "Logos/Granada.png\n",
      "Logo sauvegardé en PNG à Logos/Granada.png\n"
     ]
    },
    {
     "name": "stderr",
     "output_type": "stream",
     "text": [
      "/tmp/ipykernel_23442/533267115.py:87: FutureWarning: Passing literal html to 'read_html' is deprecated and will be removed in a future version. To read from a literal string, wrap it in a 'StringIO' object.\n",
      "  detailed_stats = pd.read_html(stats_response.text)[0]\n",
      "/tmp/ipykernel_23442/533267115.py:87: FutureWarning: Passing literal html to 'read_html' is deprecated and will be removed in a future version. To read from a literal string, wrap it in a 'StringIO' object.\n",
      "  detailed_stats = pd.read_html(stats_response.text)[0]\n",
      "/tmp/ipykernel_23442/533267115.py:87: FutureWarning: Passing literal html to 'read_html' is deprecated and will be removed in a future version. To read from a literal string, wrap it in a 'StringIO' object.\n",
      "  detailed_stats = pd.read_html(stats_response.text)[0]\n",
      "/tmp/ipykernel_23442/533267115.py:87: FutureWarning: Passing literal html to 'read_html' is deprecated and will be removed in a future version. To read from a literal string, wrap it in a 'StringIO' object.\n",
      "  detailed_stats = pd.read_html(stats_response.text)[0]\n",
      "/tmp/ipykernel_23442/533267115.py:87: FutureWarning: Passing literal html to 'read_html' is deprecated and will be removed in a future version. To read from a literal string, wrap it in a 'StringIO' object.\n",
      "  detailed_stats = pd.read_html(stats_response.text)[0]\n",
      "/tmp/ipykernel_23442/533267115.py:66: FutureWarning: Passing literal html to 'read_html' is deprecated and will be removed in a future version. To read from a literal string, wrap it in a 'StringIO' object.\n",
      "  team_data = pd.read_html(team_response.text, match=\"Scores\")[0]\n"
     ]
    },
    {
     "name": "stdout",
     "output_type": "stream",
     "text": [
      "Logos/Almeria.png\n",
      "Logo sauvegardé en PNG à Logos/Almeria.png\n"
     ]
    },
    {
     "name": "stderr",
     "output_type": "stream",
     "text": [
      "/tmp/ipykernel_23442/533267115.py:87: FutureWarning: Passing literal html to 'read_html' is deprecated and will be removed in a future version. To read from a literal string, wrap it in a 'StringIO' object.\n",
      "  detailed_stats = pd.read_html(stats_response.text)[0]\n",
      "/tmp/ipykernel_23442/533267115.py:87: FutureWarning: Passing literal html to 'read_html' is deprecated and will be removed in a future version. To read from a literal string, wrap it in a 'StringIO' object.\n",
      "  detailed_stats = pd.read_html(stats_response.text)[0]\n",
      "/tmp/ipykernel_23442/533267115.py:87: FutureWarning: Passing literal html to 'read_html' is deprecated and will be removed in a future version. To read from a literal string, wrap it in a 'StringIO' object.\n",
      "  detailed_stats = pd.read_html(stats_response.text)[0]\n",
      "/tmp/ipykernel_23442/533267115.py:87: FutureWarning: Passing literal html to 'read_html' is deprecated and will be removed in a future version. To read from a literal string, wrap it in a 'StringIO' object.\n",
      "  detailed_stats = pd.read_html(stats_response.text)[0]\n",
      "/tmp/ipykernel_23442/533267115.py:87: FutureWarning: Passing literal html to 'read_html' is deprecated and will be removed in a future version. To read from a literal string, wrap it in a 'StringIO' object.\n",
      "  detailed_stats = pd.read_html(stats_response.text)[0]\n",
      "/tmp/ipykernel_23442/533267115.py:66: FutureWarning: Passing literal html to 'read_html' is deprecated and will be removed in a future version. To read from a literal string, wrap it in a 'StringIO' object.\n",
      "  team_data = pd.read_html(team_response.text, match=\"Scores\")[0]\n"
     ]
    },
    {
     "name": "stdout",
     "output_type": "stream",
     "text": [
      "Logos/Barcelona.png\n",
      "Le logo existe déjà à Logos/Barcelona.png\n"
     ]
    },
    {
     "name": "stderr",
     "output_type": "stream",
     "text": [
      "/tmp/ipykernel_23442/533267115.py:87: FutureWarning: Passing literal html to 'read_html' is deprecated and will be removed in a future version. To read from a literal string, wrap it in a 'StringIO' object.\n",
      "  detailed_stats = pd.read_html(stats_response.text)[0]\n",
      "/tmp/ipykernel_23442/533267115.py:87: FutureWarning: Passing literal html to 'read_html' is deprecated and will be removed in a future version. To read from a literal string, wrap it in a 'StringIO' object.\n",
      "  detailed_stats = pd.read_html(stats_response.text)[0]\n",
      "/tmp/ipykernel_23442/533267115.py:87: FutureWarning: Passing literal html to 'read_html' is deprecated and will be removed in a future version. To read from a literal string, wrap it in a 'StringIO' object.\n",
      "  detailed_stats = pd.read_html(stats_response.text)[0]\n",
      "/tmp/ipykernel_23442/533267115.py:87: FutureWarning: Passing literal html to 'read_html' is deprecated and will be removed in a future version. To read from a literal string, wrap it in a 'StringIO' object.\n",
      "  detailed_stats = pd.read_html(stats_response.text)[0]\n",
      "/tmp/ipykernel_23442/533267115.py:87: FutureWarning: Passing literal html to 'read_html' is deprecated and will be removed in a future version. To read from a literal string, wrap it in a 'StringIO' object.\n",
      "  detailed_stats = pd.read_html(stats_response.text)[0]\n",
      "/tmp/ipykernel_23442/533267115.py:66: FutureWarning: Passing literal html to 'read_html' is deprecated and will be removed in a future version. To read from a literal string, wrap it in a 'StringIO' object.\n",
      "  team_data = pd.read_html(team_response.text, match=\"Scores\")[0]\n"
     ]
    },
    {
     "name": "stdout",
     "output_type": "stream",
     "text": [
      "Logos/Real Madrid.png\n",
      "Le logo existe déjà à Logos/Real Madrid.png\n"
     ]
    },
    {
     "name": "stderr",
     "output_type": "stream",
     "text": [
      "/tmp/ipykernel_23442/533267115.py:87: FutureWarning: Passing literal html to 'read_html' is deprecated and will be removed in a future version. To read from a literal string, wrap it in a 'StringIO' object.\n",
      "  detailed_stats = pd.read_html(stats_response.text)[0]\n",
      "/tmp/ipykernel_23442/533267115.py:87: FutureWarning: Passing literal html to 'read_html' is deprecated and will be removed in a future version. To read from a literal string, wrap it in a 'StringIO' object.\n",
      "  detailed_stats = pd.read_html(stats_response.text)[0]\n",
      "/tmp/ipykernel_23442/533267115.py:87: FutureWarning: Passing literal html to 'read_html' is deprecated and will be removed in a future version. To read from a literal string, wrap it in a 'StringIO' object.\n",
      "  detailed_stats = pd.read_html(stats_response.text)[0]\n",
      "/tmp/ipykernel_23442/533267115.py:87: FutureWarning: Passing literal html to 'read_html' is deprecated and will be removed in a future version. To read from a literal string, wrap it in a 'StringIO' object.\n",
      "  detailed_stats = pd.read_html(stats_response.text)[0]\n",
      "/tmp/ipykernel_23442/533267115.py:87: FutureWarning: Passing literal html to 'read_html' is deprecated and will be removed in a future version. To read from a literal string, wrap it in a 'StringIO' object.\n",
      "  detailed_stats = pd.read_html(stats_response.text)[0]\n",
      "/tmp/ipykernel_23442/533267115.py:66: FutureWarning: Passing literal html to 'read_html' is deprecated and will be removed in a future version. To read from a literal string, wrap it in a 'StringIO' object.\n",
      "  team_data = pd.read_html(team_response.text, match=\"Scores\")[0]\n"
     ]
    },
    {
     "name": "stdout",
     "output_type": "stream",
     "text": [
      "Logos/Atletico Madrid.png\n",
      "Le logo existe déjà à Logos/Atletico Madrid.png\n"
     ]
    },
    {
     "name": "stderr",
     "output_type": "stream",
     "text": [
      "/tmp/ipykernel_23442/533267115.py:87: FutureWarning: Passing literal html to 'read_html' is deprecated and will be removed in a future version. To read from a literal string, wrap it in a 'StringIO' object.\n",
      "  detailed_stats = pd.read_html(stats_response.text)[0]\n",
      "/tmp/ipykernel_23442/533267115.py:87: FutureWarning: Passing literal html to 'read_html' is deprecated and will be removed in a future version. To read from a literal string, wrap it in a 'StringIO' object.\n",
      "  detailed_stats = pd.read_html(stats_response.text)[0]\n",
      "/tmp/ipykernel_23442/533267115.py:87: FutureWarning: Passing literal html to 'read_html' is deprecated and will be removed in a future version. To read from a literal string, wrap it in a 'StringIO' object.\n",
      "  detailed_stats = pd.read_html(stats_response.text)[0]\n",
      "/tmp/ipykernel_23442/533267115.py:87: FutureWarning: Passing literal html to 'read_html' is deprecated and will be removed in a future version. To read from a literal string, wrap it in a 'StringIO' object.\n",
      "  detailed_stats = pd.read_html(stats_response.text)[0]\n",
      "/tmp/ipykernel_23442/533267115.py:87: FutureWarning: Passing literal html to 'read_html' is deprecated and will be removed in a future version. To read from a literal string, wrap it in a 'StringIO' object.\n",
      "  detailed_stats = pd.read_html(stats_response.text)[0]\n",
      "/tmp/ipykernel_23442/533267115.py:66: FutureWarning: Passing literal html to 'read_html' is deprecated and will be removed in a future version. To read from a literal string, wrap it in a 'StringIO' object.\n",
      "  team_data = pd.read_html(team_response.text, match=\"Scores\")[0]\n"
     ]
    },
    {
     "name": "stdout",
     "output_type": "stream",
     "text": [
      "Logos/Real Sociedad.png\n",
      "Le logo existe déjà à Logos/Real Sociedad.png\n"
     ]
    },
    {
     "name": "stderr",
     "output_type": "stream",
     "text": [
      "/tmp/ipykernel_23442/533267115.py:87: FutureWarning: Passing literal html to 'read_html' is deprecated and will be removed in a future version. To read from a literal string, wrap it in a 'StringIO' object.\n",
      "  detailed_stats = pd.read_html(stats_response.text)[0]\n",
      "/tmp/ipykernel_23442/533267115.py:87: FutureWarning: Passing literal html to 'read_html' is deprecated and will be removed in a future version. To read from a literal string, wrap it in a 'StringIO' object.\n",
      "  detailed_stats = pd.read_html(stats_response.text)[0]\n",
      "/tmp/ipykernel_23442/533267115.py:87: FutureWarning: Passing literal html to 'read_html' is deprecated and will be removed in a future version. To read from a literal string, wrap it in a 'StringIO' object.\n",
      "  detailed_stats = pd.read_html(stats_response.text)[0]\n",
      "/tmp/ipykernel_23442/533267115.py:87: FutureWarning: Passing literal html to 'read_html' is deprecated and will be removed in a future version. To read from a literal string, wrap it in a 'StringIO' object.\n",
      "  detailed_stats = pd.read_html(stats_response.text)[0]\n",
      "/tmp/ipykernel_23442/533267115.py:87: FutureWarning: Passing literal html to 'read_html' is deprecated and will be removed in a future version. To read from a literal string, wrap it in a 'StringIO' object.\n",
      "  detailed_stats = pd.read_html(stats_response.text)[0]\n",
      "/tmp/ipykernel_23442/533267115.py:66: FutureWarning: Passing literal html to 'read_html' is deprecated and will be removed in a future version. To read from a literal string, wrap it in a 'StringIO' object.\n",
      "  team_data = pd.read_html(team_response.text, match=\"Scores\")[0]\n"
     ]
    },
    {
     "name": "stdout",
     "output_type": "stream",
     "text": [
      "Logos/Villarreal.png\n",
      "Le logo existe déjà à Logos/Villarreal.png\n"
     ]
    },
    {
     "name": "stderr",
     "output_type": "stream",
     "text": [
      "/tmp/ipykernel_23442/533267115.py:87: FutureWarning: Passing literal html to 'read_html' is deprecated and will be removed in a future version. To read from a literal string, wrap it in a 'StringIO' object.\n",
      "  detailed_stats = pd.read_html(stats_response.text)[0]\n",
      "/tmp/ipykernel_23442/533267115.py:87: FutureWarning: Passing literal html to 'read_html' is deprecated and will be removed in a future version. To read from a literal string, wrap it in a 'StringIO' object.\n",
      "  detailed_stats = pd.read_html(stats_response.text)[0]\n",
      "/tmp/ipykernel_23442/533267115.py:87: FutureWarning: Passing literal html to 'read_html' is deprecated and will be removed in a future version. To read from a literal string, wrap it in a 'StringIO' object.\n",
      "  detailed_stats = pd.read_html(stats_response.text)[0]\n",
      "/tmp/ipykernel_23442/533267115.py:87: FutureWarning: Passing literal html to 'read_html' is deprecated and will be removed in a future version. To read from a literal string, wrap it in a 'StringIO' object.\n",
      "  detailed_stats = pd.read_html(stats_response.text)[0]\n",
      "/tmp/ipykernel_23442/533267115.py:87: FutureWarning: Passing literal html to 'read_html' is deprecated and will be removed in a future version. To read from a literal string, wrap it in a 'StringIO' object.\n",
      "  detailed_stats = pd.read_html(stats_response.text)[0]\n",
      "/tmp/ipykernel_23442/533267115.py:66: FutureWarning: Passing literal html to 'read_html' is deprecated and will be removed in a future version. To read from a literal string, wrap it in a 'StringIO' object.\n",
      "  team_data = pd.read_html(team_response.text, match=\"Scores\")[0]\n"
     ]
    },
    {
     "name": "stdout",
     "output_type": "stream",
     "text": [
      "Logos/Real Betis.png\n",
      "Le logo existe déjà à Logos/Real Betis.png\n"
     ]
    },
    {
     "name": "stderr",
     "output_type": "stream",
     "text": [
      "/tmp/ipykernel_23442/533267115.py:87: FutureWarning: Passing literal html to 'read_html' is deprecated and will be removed in a future version. To read from a literal string, wrap it in a 'StringIO' object.\n",
      "  detailed_stats = pd.read_html(stats_response.text)[0]\n",
      "/tmp/ipykernel_23442/533267115.py:87: FutureWarning: Passing literal html to 'read_html' is deprecated and will be removed in a future version. To read from a literal string, wrap it in a 'StringIO' object.\n",
      "  detailed_stats = pd.read_html(stats_response.text)[0]\n",
      "/tmp/ipykernel_23442/533267115.py:87: FutureWarning: Passing literal html to 'read_html' is deprecated and will be removed in a future version. To read from a literal string, wrap it in a 'StringIO' object.\n",
      "  detailed_stats = pd.read_html(stats_response.text)[0]\n",
      "/tmp/ipykernel_23442/533267115.py:87: FutureWarning: Passing literal html to 'read_html' is deprecated and will be removed in a future version. To read from a literal string, wrap it in a 'StringIO' object.\n",
      "  detailed_stats = pd.read_html(stats_response.text)[0]\n",
      "/tmp/ipykernel_23442/533267115.py:87: FutureWarning: Passing literal html to 'read_html' is deprecated and will be removed in a future version. To read from a literal string, wrap it in a 'StringIO' object.\n",
      "  detailed_stats = pd.read_html(stats_response.text)[0]\n",
      "/tmp/ipykernel_23442/533267115.py:66: FutureWarning: Passing literal html to 'read_html' is deprecated and will be removed in a future version. To read from a literal string, wrap it in a 'StringIO' object.\n",
      "  team_data = pd.read_html(team_response.text, match=\"Scores\")[0]\n"
     ]
    },
    {
     "name": "stdout",
     "output_type": "stream",
     "text": [
      "Logos/Osasuna.png\n",
      "Le logo existe déjà à Logos/Osasuna.png\n"
     ]
    },
    {
     "name": "stderr",
     "output_type": "stream",
     "text": [
      "/tmp/ipykernel_23442/533267115.py:87: FutureWarning: Passing literal html to 'read_html' is deprecated and will be removed in a future version. To read from a literal string, wrap it in a 'StringIO' object.\n",
      "  detailed_stats = pd.read_html(stats_response.text)[0]\n",
      "/tmp/ipykernel_23442/533267115.py:87: FutureWarning: Passing literal html to 'read_html' is deprecated and will be removed in a future version. To read from a literal string, wrap it in a 'StringIO' object.\n",
      "  detailed_stats = pd.read_html(stats_response.text)[0]\n",
      "/tmp/ipykernel_23442/533267115.py:87: FutureWarning: Passing literal html to 'read_html' is deprecated and will be removed in a future version. To read from a literal string, wrap it in a 'StringIO' object.\n",
      "  detailed_stats = pd.read_html(stats_response.text)[0]\n",
      "/tmp/ipykernel_23442/533267115.py:87: FutureWarning: Passing literal html to 'read_html' is deprecated and will be removed in a future version. To read from a literal string, wrap it in a 'StringIO' object.\n",
      "  detailed_stats = pd.read_html(stats_response.text)[0]\n",
      "/tmp/ipykernel_23442/533267115.py:87: FutureWarning: Passing literal html to 'read_html' is deprecated and will be removed in a future version. To read from a literal string, wrap it in a 'StringIO' object.\n",
      "  detailed_stats = pd.read_html(stats_response.text)[0]\n",
      "/tmp/ipykernel_23442/533267115.py:66: FutureWarning: Passing literal html to 'read_html' is deprecated and will be removed in a future version. To read from a literal string, wrap it in a 'StringIO' object.\n",
      "  team_data = pd.read_html(team_response.text, match=\"Scores\")[0]\n"
     ]
    },
    {
     "name": "stdout",
     "output_type": "stream",
     "text": [
      "Logos/Athletic Club.png\n",
      "Le logo existe déjà à Logos/Athletic Club.png\n"
     ]
    },
    {
     "name": "stderr",
     "output_type": "stream",
     "text": [
      "/tmp/ipykernel_23442/533267115.py:87: FutureWarning: Passing literal html to 'read_html' is deprecated and will be removed in a future version. To read from a literal string, wrap it in a 'StringIO' object.\n",
      "  detailed_stats = pd.read_html(stats_response.text)[0]\n",
      "/tmp/ipykernel_23442/533267115.py:87: FutureWarning: Passing literal html to 'read_html' is deprecated and will be removed in a future version. To read from a literal string, wrap it in a 'StringIO' object.\n",
      "  detailed_stats = pd.read_html(stats_response.text)[0]\n",
      "/tmp/ipykernel_23442/533267115.py:87: FutureWarning: Passing literal html to 'read_html' is deprecated and will be removed in a future version. To read from a literal string, wrap it in a 'StringIO' object.\n",
      "  detailed_stats = pd.read_html(stats_response.text)[0]\n",
      "/tmp/ipykernel_23442/533267115.py:87: FutureWarning: Passing literal html to 'read_html' is deprecated and will be removed in a future version. To read from a literal string, wrap it in a 'StringIO' object.\n",
      "  detailed_stats = pd.read_html(stats_response.text)[0]\n",
      "/tmp/ipykernel_23442/533267115.py:87: FutureWarning: Passing literal html to 'read_html' is deprecated and will be removed in a future version. To read from a literal string, wrap it in a 'StringIO' object.\n",
      "  detailed_stats = pd.read_html(stats_response.text)[0]\n",
      "/tmp/ipykernel_23442/533267115.py:66: FutureWarning: Passing literal html to 'read_html' is deprecated and will be removed in a future version. To read from a literal string, wrap it in a 'StringIO' object.\n",
      "  team_data = pd.read_html(team_response.text, match=\"Scores\")[0]\n"
     ]
    },
    {
     "name": "stdout",
     "output_type": "stream",
     "text": [
      "Logos/Mallorca.png\n",
      "Le logo existe déjà à Logos/Mallorca.png\n"
     ]
    },
    {
     "name": "stderr",
     "output_type": "stream",
     "text": [
      "/tmp/ipykernel_23442/533267115.py:87: FutureWarning: Passing literal html to 'read_html' is deprecated and will be removed in a future version. To read from a literal string, wrap it in a 'StringIO' object.\n",
      "  detailed_stats = pd.read_html(stats_response.text)[0]\n",
      "/tmp/ipykernel_23442/533267115.py:87: FutureWarning: Passing literal html to 'read_html' is deprecated and will be removed in a future version. To read from a literal string, wrap it in a 'StringIO' object.\n",
      "  detailed_stats = pd.read_html(stats_response.text)[0]\n",
      "/tmp/ipykernel_23442/533267115.py:87: FutureWarning: Passing literal html to 'read_html' is deprecated and will be removed in a future version. To read from a literal string, wrap it in a 'StringIO' object.\n",
      "  detailed_stats = pd.read_html(stats_response.text)[0]\n",
      "/tmp/ipykernel_23442/533267115.py:87: FutureWarning: Passing literal html to 'read_html' is deprecated and will be removed in a future version. To read from a literal string, wrap it in a 'StringIO' object.\n",
      "  detailed_stats = pd.read_html(stats_response.text)[0]\n",
      "/tmp/ipykernel_23442/533267115.py:87: FutureWarning: Passing literal html to 'read_html' is deprecated and will be removed in a future version. To read from a literal string, wrap it in a 'StringIO' object.\n",
      "  detailed_stats = pd.read_html(stats_response.text)[0]\n",
      "/tmp/ipykernel_23442/533267115.py:66: FutureWarning: Passing literal html to 'read_html' is deprecated and will be removed in a future version. To read from a literal string, wrap it in a 'StringIO' object.\n",
      "  team_data = pd.read_html(team_response.text, match=\"Scores\")[0]\n"
     ]
    },
    {
     "name": "stdout",
     "output_type": "stream",
     "text": [
      "Logos/Girona.png\n",
      "Le logo existe déjà à Logos/Girona.png\n"
     ]
    },
    {
     "name": "stderr",
     "output_type": "stream",
     "text": [
      "/tmp/ipykernel_23442/533267115.py:87: FutureWarning: Passing literal html to 'read_html' is deprecated and will be removed in a future version. To read from a literal string, wrap it in a 'StringIO' object.\n",
      "  detailed_stats = pd.read_html(stats_response.text)[0]\n",
      "/tmp/ipykernel_23442/533267115.py:87: FutureWarning: Passing literal html to 'read_html' is deprecated and will be removed in a future version. To read from a literal string, wrap it in a 'StringIO' object.\n",
      "  detailed_stats = pd.read_html(stats_response.text)[0]\n",
      "/tmp/ipykernel_23442/533267115.py:87: FutureWarning: Passing literal html to 'read_html' is deprecated and will be removed in a future version. To read from a literal string, wrap it in a 'StringIO' object.\n",
      "  detailed_stats = pd.read_html(stats_response.text)[0]\n",
      "/tmp/ipykernel_23442/533267115.py:87: FutureWarning: Passing literal html to 'read_html' is deprecated and will be removed in a future version. To read from a literal string, wrap it in a 'StringIO' object.\n",
      "  detailed_stats = pd.read_html(stats_response.text)[0]\n",
      "/tmp/ipykernel_23442/533267115.py:87: FutureWarning: Passing literal html to 'read_html' is deprecated and will be removed in a future version. To read from a literal string, wrap it in a 'StringIO' object.\n",
      "  detailed_stats = pd.read_html(stats_response.text)[0]\n",
      "/tmp/ipykernel_23442/533267115.py:66: FutureWarning: Passing literal html to 'read_html' is deprecated and will be removed in a future version. To read from a literal string, wrap it in a 'StringIO' object.\n",
      "  team_data = pd.read_html(team_response.text, match=\"Scores\")[0]\n"
     ]
    },
    {
     "name": "stdout",
     "output_type": "stream",
     "text": [
      "Logos/Rayo Vallecano.png\n",
      "Le logo existe déjà à Logos/Rayo Vallecano.png\n"
     ]
    },
    {
     "name": "stderr",
     "output_type": "stream",
     "text": [
      "/tmp/ipykernel_23442/533267115.py:87: FutureWarning: Passing literal html to 'read_html' is deprecated and will be removed in a future version. To read from a literal string, wrap it in a 'StringIO' object.\n",
      "  detailed_stats = pd.read_html(stats_response.text)[0]\n",
      "/tmp/ipykernel_23442/533267115.py:87: FutureWarning: Passing literal html to 'read_html' is deprecated and will be removed in a future version. To read from a literal string, wrap it in a 'StringIO' object.\n",
      "  detailed_stats = pd.read_html(stats_response.text)[0]\n",
      "/tmp/ipykernel_23442/533267115.py:87: FutureWarning: Passing literal html to 'read_html' is deprecated and will be removed in a future version. To read from a literal string, wrap it in a 'StringIO' object.\n",
      "  detailed_stats = pd.read_html(stats_response.text)[0]\n",
      "/tmp/ipykernel_23442/533267115.py:87: FutureWarning: Passing literal html to 'read_html' is deprecated and will be removed in a future version. To read from a literal string, wrap it in a 'StringIO' object.\n",
      "  detailed_stats = pd.read_html(stats_response.text)[0]\n",
      "/tmp/ipykernel_23442/533267115.py:87: FutureWarning: Passing literal html to 'read_html' is deprecated and will be removed in a future version. To read from a literal string, wrap it in a 'StringIO' object.\n",
      "  detailed_stats = pd.read_html(stats_response.text)[0]\n",
      "/tmp/ipykernel_23442/533267115.py:66: FutureWarning: Passing literal html to 'read_html' is deprecated and will be removed in a future version. To read from a literal string, wrap it in a 'StringIO' object.\n",
      "  team_data = pd.read_html(team_response.text, match=\"Scores\")[0]\n"
     ]
    },
    {
     "name": "stdout",
     "output_type": "stream",
     "text": [
      "Logos/Sevilla.png\n",
      "Le logo existe déjà à Logos/Sevilla.png\n"
     ]
    },
    {
     "name": "stderr",
     "output_type": "stream",
     "text": [
      "/tmp/ipykernel_23442/533267115.py:87: FutureWarning: Passing literal html to 'read_html' is deprecated and will be removed in a future version. To read from a literal string, wrap it in a 'StringIO' object.\n",
      "  detailed_stats = pd.read_html(stats_response.text)[0]\n",
      "/tmp/ipykernel_23442/533267115.py:87: FutureWarning: Passing literal html to 'read_html' is deprecated and will be removed in a future version. To read from a literal string, wrap it in a 'StringIO' object.\n",
      "  detailed_stats = pd.read_html(stats_response.text)[0]\n",
      "/tmp/ipykernel_23442/533267115.py:87: FutureWarning: Passing literal html to 'read_html' is deprecated and will be removed in a future version. To read from a literal string, wrap it in a 'StringIO' object.\n",
      "  detailed_stats = pd.read_html(stats_response.text)[0]\n",
      "/tmp/ipykernel_23442/533267115.py:87: FutureWarning: Passing literal html to 'read_html' is deprecated and will be removed in a future version. To read from a literal string, wrap it in a 'StringIO' object.\n",
      "  detailed_stats = pd.read_html(stats_response.text)[0]\n",
      "/tmp/ipykernel_23442/533267115.py:87: FutureWarning: Passing literal html to 'read_html' is deprecated and will be removed in a future version. To read from a literal string, wrap it in a 'StringIO' object.\n",
      "  detailed_stats = pd.read_html(stats_response.text)[0]\n",
      "/tmp/ipykernel_23442/533267115.py:66: FutureWarning: Passing literal html to 'read_html' is deprecated and will be removed in a future version. To read from a literal string, wrap it in a 'StringIO' object.\n",
      "  team_data = pd.read_html(team_response.text, match=\"Scores\")[0]\n"
     ]
    },
    {
     "name": "stdout",
     "output_type": "stream",
     "text": [
      "Logos/Celta Vigo.png\n",
      "Le logo existe déjà à Logos/Celta Vigo.png\n"
     ]
    },
    {
     "name": "stderr",
     "output_type": "stream",
     "text": [
      "/tmp/ipykernel_23442/533267115.py:87: FutureWarning: Passing literal html to 'read_html' is deprecated and will be removed in a future version. To read from a literal string, wrap it in a 'StringIO' object.\n",
      "  detailed_stats = pd.read_html(stats_response.text)[0]\n",
      "/tmp/ipykernel_23442/533267115.py:87: FutureWarning: Passing literal html to 'read_html' is deprecated and will be removed in a future version. To read from a literal string, wrap it in a 'StringIO' object.\n",
      "  detailed_stats = pd.read_html(stats_response.text)[0]\n",
      "/tmp/ipykernel_23442/533267115.py:87: FutureWarning: Passing literal html to 'read_html' is deprecated and will be removed in a future version. To read from a literal string, wrap it in a 'StringIO' object.\n",
      "  detailed_stats = pd.read_html(stats_response.text)[0]\n",
      "/tmp/ipykernel_23442/533267115.py:87: FutureWarning: Passing literal html to 'read_html' is deprecated and will be removed in a future version. To read from a literal string, wrap it in a 'StringIO' object.\n",
      "  detailed_stats = pd.read_html(stats_response.text)[0]\n",
      "/tmp/ipykernel_23442/533267115.py:87: FutureWarning: Passing literal html to 'read_html' is deprecated and will be removed in a future version. To read from a literal string, wrap it in a 'StringIO' object.\n",
      "  detailed_stats = pd.read_html(stats_response.text)[0]\n",
      "/tmp/ipykernel_23442/533267115.py:66: FutureWarning: Passing literal html to 'read_html' is deprecated and will be removed in a future version. To read from a literal string, wrap it in a 'StringIO' object.\n",
      "  team_data = pd.read_html(team_response.text, match=\"Scores\")[0]\n"
     ]
    },
    {
     "name": "stdout",
     "output_type": "stream",
     "text": [
      "Logos/Cadiz.png\n",
      "Le logo existe déjà à Logos/Cadiz.png\n"
     ]
    },
    {
     "name": "stderr",
     "output_type": "stream",
     "text": [
      "/tmp/ipykernel_23442/533267115.py:87: FutureWarning: Passing literal html to 'read_html' is deprecated and will be removed in a future version. To read from a literal string, wrap it in a 'StringIO' object.\n",
      "  detailed_stats = pd.read_html(stats_response.text)[0]\n",
      "/tmp/ipykernel_23442/533267115.py:87: FutureWarning: Passing literal html to 'read_html' is deprecated and will be removed in a future version. To read from a literal string, wrap it in a 'StringIO' object.\n",
      "  detailed_stats = pd.read_html(stats_response.text)[0]\n",
      "/tmp/ipykernel_23442/533267115.py:87: FutureWarning: Passing literal html to 'read_html' is deprecated and will be removed in a future version. To read from a literal string, wrap it in a 'StringIO' object.\n",
      "  detailed_stats = pd.read_html(stats_response.text)[0]\n",
      "/tmp/ipykernel_23442/533267115.py:87: FutureWarning: Passing literal html to 'read_html' is deprecated and will be removed in a future version. To read from a literal string, wrap it in a 'StringIO' object.\n",
      "  detailed_stats = pd.read_html(stats_response.text)[0]\n",
      "/tmp/ipykernel_23442/533267115.py:87: FutureWarning: Passing literal html to 'read_html' is deprecated and will be removed in a future version. To read from a literal string, wrap it in a 'StringIO' object.\n",
      "  detailed_stats = pd.read_html(stats_response.text)[0]\n",
      "/tmp/ipykernel_23442/533267115.py:66: FutureWarning: Passing literal html to 'read_html' is deprecated and will be removed in a future version. To read from a literal string, wrap it in a 'StringIO' object.\n",
      "  team_data = pd.read_html(team_response.text, match=\"Scores\")[0]\n"
     ]
    },
    {
     "name": "stdout",
     "output_type": "stream",
     "text": [
      "Logos/Getafe.png\n",
      "Le logo existe déjà à Logos/Getafe.png\n"
     ]
    },
    {
     "name": "stderr",
     "output_type": "stream",
     "text": [
      "/tmp/ipykernel_23442/533267115.py:87: FutureWarning: Passing literal html to 'read_html' is deprecated and will be removed in a future version. To read from a literal string, wrap it in a 'StringIO' object.\n",
      "  detailed_stats = pd.read_html(stats_response.text)[0]\n",
      "/tmp/ipykernel_23442/533267115.py:87: FutureWarning: Passing literal html to 'read_html' is deprecated and will be removed in a future version. To read from a literal string, wrap it in a 'StringIO' object.\n",
      "  detailed_stats = pd.read_html(stats_response.text)[0]\n",
      "/tmp/ipykernel_23442/533267115.py:87: FutureWarning: Passing literal html to 'read_html' is deprecated and will be removed in a future version. To read from a literal string, wrap it in a 'StringIO' object.\n",
      "  detailed_stats = pd.read_html(stats_response.text)[0]\n",
      "/tmp/ipykernel_23442/533267115.py:87: FutureWarning: Passing literal html to 'read_html' is deprecated and will be removed in a future version. To read from a literal string, wrap it in a 'StringIO' object.\n",
      "  detailed_stats = pd.read_html(stats_response.text)[0]\n",
      "/tmp/ipykernel_23442/533267115.py:87: FutureWarning: Passing literal html to 'read_html' is deprecated and will be removed in a future version. To read from a literal string, wrap it in a 'StringIO' object.\n",
      "  detailed_stats = pd.read_html(stats_response.text)[0]\n",
      "/tmp/ipykernel_23442/533267115.py:66: FutureWarning: Passing literal html to 'read_html' is deprecated and will be removed in a future version. To read from a literal string, wrap it in a 'StringIO' object.\n",
      "  team_data = pd.read_html(team_response.text, match=\"Scores\")[0]\n"
     ]
    },
    {
     "name": "stdout",
     "output_type": "stream",
     "text": [
      "Logos/Valencia.png\n",
      "Le logo existe déjà à Logos/Valencia.png\n"
     ]
    },
    {
     "name": "stderr",
     "output_type": "stream",
     "text": [
      "/tmp/ipykernel_23442/533267115.py:87: FutureWarning: Passing literal html to 'read_html' is deprecated and will be removed in a future version. To read from a literal string, wrap it in a 'StringIO' object.\n",
      "  detailed_stats = pd.read_html(stats_response.text)[0]\n",
      "/tmp/ipykernel_23442/533267115.py:87: FutureWarning: Passing literal html to 'read_html' is deprecated and will be removed in a future version. To read from a literal string, wrap it in a 'StringIO' object.\n",
      "  detailed_stats = pd.read_html(stats_response.text)[0]\n",
      "/tmp/ipykernel_23442/533267115.py:87: FutureWarning: Passing literal html to 'read_html' is deprecated and will be removed in a future version. To read from a literal string, wrap it in a 'StringIO' object.\n",
      "  detailed_stats = pd.read_html(stats_response.text)[0]\n",
      "/tmp/ipykernel_23442/533267115.py:87: FutureWarning: Passing literal html to 'read_html' is deprecated and will be removed in a future version. To read from a literal string, wrap it in a 'StringIO' object.\n",
      "  detailed_stats = pd.read_html(stats_response.text)[0]\n",
      "/tmp/ipykernel_23442/533267115.py:87: FutureWarning: Passing literal html to 'read_html' is deprecated and will be removed in a future version. To read from a literal string, wrap it in a 'StringIO' object.\n",
      "  detailed_stats = pd.read_html(stats_response.text)[0]\n",
      "/tmp/ipykernel_23442/533267115.py:66: FutureWarning: Passing literal html to 'read_html' is deprecated and will be removed in a future version. To read from a literal string, wrap it in a 'StringIO' object.\n",
      "  team_data = pd.read_html(team_response.text, match=\"Scores\")[0]\n"
     ]
    },
    {
     "name": "stdout",
     "output_type": "stream",
     "text": [
      "Logos/Almeria.png\n",
      "Le logo existe déjà à Logos/Almeria.png\n"
     ]
    },
    {
     "name": "stderr",
     "output_type": "stream",
     "text": [
      "/tmp/ipykernel_23442/533267115.py:87: FutureWarning: Passing literal html to 'read_html' is deprecated and will be removed in a future version. To read from a literal string, wrap it in a 'StringIO' object.\n",
      "  detailed_stats = pd.read_html(stats_response.text)[0]\n",
      "/tmp/ipykernel_23442/533267115.py:87: FutureWarning: Passing literal html to 'read_html' is deprecated and will be removed in a future version. To read from a literal string, wrap it in a 'StringIO' object.\n",
      "  detailed_stats = pd.read_html(stats_response.text)[0]\n",
      "/tmp/ipykernel_23442/533267115.py:87: FutureWarning: Passing literal html to 'read_html' is deprecated and will be removed in a future version. To read from a literal string, wrap it in a 'StringIO' object.\n",
      "  detailed_stats = pd.read_html(stats_response.text)[0]\n",
      "/tmp/ipykernel_23442/533267115.py:87: FutureWarning: Passing literal html to 'read_html' is deprecated and will be removed in a future version. To read from a literal string, wrap it in a 'StringIO' object.\n",
      "  detailed_stats = pd.read_html(stats_response.text)[0]\n",
      "/tmp/ipykernel_23442/533267115.py:87: FutureWarning: Passing literal html to 'read_html' is deprecated and will be removed in a future version. To read from a literal string, wrap it in a 'StringIO' object.\n",
      "  detailed_stats = pd.read_html(stats_response.text)[0]\n",
      "/tmp/ipykernel_23442/533267115.py:66: FutureWarning: Passing literal html to 'read_html' is deprecated and will be removed in a future version. To read from a literal string, wrap it in a 'StringIO' object.\n",
      "  team_data = pd.read_html(team_response.text, match=\"Scores\")[0]\n"
     ]
    },
    {
     "name": "stdout",
     "output_type": "stream",
     "text": [
      "Logos/Valladolid.png\n",
      "Logo sauvegardé en PNG à Logos/Valladolid.png\n"
     ]
    },
    {
     "name": "stderr",
     "output_type": "stream",
     "text": [
      "/tmp/ipykernel_23442/533267115.py:87: FutureWarning: Passing literal html to 'read_html' is deprecated and will be removed in a future version. To read from a literal string, wrap it in a 'StringIO' object.\n",
      "  detailed_stats = pd.read_html(stats_response.text)[0]\n",
      "/tmp/ipykernel_23442/533267115.py:87: FutureWarning: Passing literal html to 'read_html' is deprecated and will be removed in a future version. To read from a literal string, wrap it in a 'StringIO' object.\n",
      "  detailed_stats = pd.read_html(stats_response.text)[0]\n",
      "/tmp/ipykernel_23442/533267115.py:87: FutureWarning: Passing literal html to 'read_html' is deprecated and will be removed in a future version. To read from a literal string, wrap it in a 'StringIO' object.\n",
      "  detailed_stats = pd.read_html(stats_response.text)[0]\n",
      "/tmp/ipykernel_23442/533267115.py:87: FutureWarning: Passing literal html to 'read_html' is deprecated and will be removed in a future version. To read from a literal string, wrap it in a 'StringIO' object.\n",
      "  detailed_stats = pd.read_html(stats_response.text)[0]\n",
      "/tmp/ipykernel_23442/533267115.py:87: FutureWarning: Passing literal html to 'read_html' is deprecated and will be removed in a future version. To read from a literal string, wrap it in a 'StringIO' object.\n",
      "  detailed_stats = pd.read_html(stats_response.text)[0]\n",
      "/tmp/ipykernel_23442/533267115.py:66: FutureWarning: Passing literal html to 'read_html' is deprecated and will be removed in a future version. To read from a literal string, wrap it in a 'StringIO' object.\n",
      "  team_data = pd.read_html(team_response.text, match=\"Scores\")[0]\n"
     ]
    },
    {
     "name": "stdout",
     "output_type": "stream",
     "text": [
      "Logos/Espanyol.png\n",
      "Logo sauvegardé en PNG à Logos/Espanyol.png\n"
     ]
    },
    {
     "name": "stderr",
     "output_type": "stream",
     "text": [
      "/tmp/ipykernel_23442/533267115.py:87: FutureWarning: Passing literal html to 'read_html' is deprecated and will be removed in a future version. To read from a literal string, wrap it in a 'StringIO' object.\n",
      "  detailed_stats = pd.read_html(stats_response.text)[0]\n",
      "/tmp/ipykernel_23442/533267115.py:87: FutureWarning: Passing literal html to 'read_html' is deprecated and will be removed in a future version. To read from a literal string, wrap it in a 'StringIO' object.\n",
      "  detailed_stats = pd.read_html(stats_response.text)[0]\n",
      "/tmp/ipykernel_23442/533267115.py:87: FutureWarning: Passing literal html to 'read_html' is deprecated and will be removed in a future version. To read from a literal string, wrap it in a 'StringIO' object.\n",
      "  detailed_stats = pd.read_html(stats_response.text)[0]\n",
      "/tmp/ipykernel_23442/533267115.py:87: FutureWarning: Passing literal html to 'read_html' is deprecated and will be removed in a future version. To read from a literal string, wrap it in a 'StringIO' object.\n",
      "  detailed_stats = pd.read_html(stats_response.text)[0]\n",
      "/tmp/ipykernel_23442/533267115.py:87: FutureWarning: Passing literal html to 'read_html' is deprecated and will be removed in a future version. To read from a literal string, wrap it in a 'StringIO' object.\n",
      "  detailed_stats = pd.read_html(stats_response.text)[0]\n",
      "/tmp/ipykernel_23442/533267115.py:66: FutureWarning: Passing literal html to 'read_html' is deprecated and will be removed in a future version. To read from a literal string, wrap it in a 'StringIO' object.\n",
      "  team_data = pd.read_html(team_response.text, match=\"Scores\")[0]\n"
     ]
    },
    {
     "name": "stdout",
     "output_type": "stream",
     "text": [
      "Logos/Elche.png\n",
      "Logo sauvegardé en PNG à Logos/Elche.png\n"
     ]
    },
    {
     "name": "stderr",
     "output_type": "stream",
     "text": [
      "/tmp/ipykernel_23442/533267115.py:87: FutureWarning: Passing literal html to 'read_html' is deprecated and will be removed in a future version. To read from a literal string, wrap it in a 'StringIO' object.\n",
      "  detailed_stats = pd.read_html(stats_response.text)[0]\n",
      "/tmp/ipykernel_23442/533267115.py:87: FutureWarning: Passing literal html to 'read_html' is deprecated and will be removed in a future version. To read from a literal string, wrap it in a 'StringIO' object.\n",
      "  detailed_stats = pd.read_html(stats_response.text)[0]\n",
      "/tmp/ipykernel_23442/533267115.py:87: FutureWarning: Passing literal html to 'read_html' is deprecated and will be removed in a future version. To read from a literal string, wrap it in a 'StringIO' object.\n",
      "  detailed_stats = pd.read_html(stats_response.text)[0]\n",
      "/tmp/ipykernel_23442/533267115.py:87: FutureWarning: Passing literal html to 'read_html' is deprecated and will be removed in a future version. To read from a literal string, wrap it in a 'StringIO' object.\n",
      "  detailed_stats = pd.read_html(stats_response.text)[0]\n",
      "/tmp/ipykernel_23442/533267115.py:87: FutureWarning: Passing literal html to 'read_html' is deprecated and will be removed in a future version. To read from a literal string, wrap it in a 'StringIO' object.\n",
      "  detailed_stats = pd.read_html(stats_response.text)[0]\n",
      "/tmp/ipykernel_23442/533267115.py:66: FutureWarning: Passing literal html to 'read_html' is deprecated and will be removed in a future version. To read from a literal string, wrap it in a 'StringIO' object.\n",
      "  team_data = pd.read_html(team_response.text, match=\"Scores\")[0]\n"
     ]
    },
    {
     "name": "stdout",
     "output_type": "stream",
     "text": [
      "Logos/Real Madrid.png\n",
      "Le logo existe déjà à Logos/Real Madrid.png\n"
     ]
    },
    {
     "name": "stderr",
     "output_type": "stream",
     "text": [
      "/tmp/ipykernel_23442/533267115.py:87: FutureWarning: Passing literal html to 'read_html' is deprecated and will be removed in a future version. To read from a literal string, wrap it in a 'StringIO' object.\n",
      "  detailed_stats = pd.read_html(stats_response.text)[0]\n",
      "/tmp/ipykernel_23442/533267115.py:87: FutureWarning: Passing literal html to 'read_html' is deprecated and will be removed in a future version. To read from a literal string, wrap it in a 'StringIO' object.\n",
      "  detailed_stats = pd.read_html(stats_response.text)[0]\n",
      "/tmp/ipykernel_23442/533267115.py:87: FutureWarning: Passing literal html to 'read_html' is deprecated and will be removed in a future version. To read from a literal string, wrap it in a 'StringIO' object.\n",
      "  detailed_stats = pd.read_html(stats_response.text)[0]\n",
      "/tmp/ipykernel_23442/533267115.py:87: FutureWarning: Passing literal html to 'read_html' is deprecated and will be removed in a future version. To read from a literal string, wrap it in a 'StringIO' object.\n",
      "  detailed_stats = pd.read_html(stats_response.text)[0]\n",
      "/tmp/ipykernel_23442/533267115.py:87: FutureWarning: Passing literal html to 'read_html' is deprecated and will be removed in a future version. To read from a literal string, wrap it in a 'StringIO' object.\n",
      "  detailed_stats = pd.read_html(stats_response.text)[0]\n",
      "/tmp/ipykernel_23442/533267115.py:66: FutureWarning: Passing literal html to 'read_html' is deprecated and will be removed in a future version. To read from a literal string, wrap it in a 'StringIO' object.\n",
      "  team_data = pd.read_html(team_response.text, match=\"Scores\")[0]\n"
     ]
    },
    {
     "name": "stdout",
     "output_type": "stream",
     "text": [
      "Logos/Barcelona.png\n",
      "Le logo existe déjà à Logos/Barcelona.png\n"
     ]
    },
    {
     "name": "stderr",
     "output_type": "stream",
     "text": [
      "/tmp/ipykernel_23442/533267115.py:87: FutureWarning: Passing literal html to 'read_html' is deprecated and will be removed in a future version. To read from a literal string, wrap it in a 'StringIO' object.\n",
      "  detailed_stats = pd.read_html(stats_response.text)[0]\n",
      "/tmp/ipykernel_23442/533267115.py:87: FutureWarning: Passing literal html to 'read_html' is deprecated and will be removed in a future version. To read from a literal string, wrap it in a 'StringIO' object.\n",
      "  detailed_stats = pd.read_html(stats_response.text)[0]\n",
      "/tmp/ipykernel_23442/533267115.py:87: FutureWarning: Passing literal html to 'read_html' is deprecated and will be removed in a future version. To read from a literal string, wrap it in a 'StringIO' object.\n",
      "  detailed_stats = pd.read_html(stats_response.text)[0]\n",
      "/tmp/ipykernel_23442/533267115.py:87: FutureWarning: Passing literal html to 'read_html' is deprecated and will be removed in a future version. To read from a literal string, wrap it in a 'StringIO' object.\n",
      "  detailed_stats = pd.read_html(stats_response.text)[0]\n",
      "/tmp/ipykernel_23442/533267115.py:87: FutureWarning: Passing literal html to 'read_html' is deprecated and will be removed in a future version. To read from a literal string, wrap it in a 'StringIO' object.\n",
      "  detailed_stats = pd.read_html(stats_response.text)[0]\n",
      "/tmp/ipykernel_23442/533267115.py:66: FutureWarning: Passing literal html to 'read_html' is deprecated and will be removed in a future version. To read from a literal string, wrap it in a 'StringIO' object.\n",
      "  team_data = pd.read_html(team_response.text, match=\"Scores\")[0]\n"
     ]
    },
    {
     "name": "stdout",
     "output_type": "stream",
     "text": [
      "Logos/Atletico Madrid.png\n",
      "Le logo existe déjà à Logos/Atletico Madrid.png\n"
     ]
    },
    {
     "name": "stderr",
     "output_type": "stream",
     "text": [
      "/tmp/ipykernel_23442/533267115.py:87: FutureWarning: Passing literal html to 'read_html' is deprecated and will be removed in a future version. To read from a literal string, wrap it in a 'StringIO' object.\n",
      "  detailed_stats = pd.read_html(stats_response.text)[0]\n",
      "/tmp/ipykernel_23442/533267115.py:87: FutureWarning: Passing literal html to 'read_html' is deprecated and will be removed in a future version. To read from a literal string, wrap it in a 'StringIO' object.\n",
      "  detailed_stats = pd.read_html(stats_response.text)[0]\n",
      "/tmp/ipykernel_23442/533267115.py:87: FutureWarning: Passing literal html to 'read_html' is deprecated and will be removed in a future version. To read from a literal string, wrap it in a 'StringIO' object.\n",
      "  detailed_stats = pd.read_html(stats_response.text)[0]\n",
      "/tmp/ipykernel_23442/533267115.py:87: FutureWarning: Passing literal html to 'read_html' is deprecated and will be removed in a future version. To read from a literal string, wrap it in a 'StringIO' object.\n",
      "  detailed_stats = pd.read_html(stats_response.text)[0]\n",
      "/tmp/ipykernel_23442/533267115.py:87: FutureWarning: Passing literal html to 'read_html' is deprecated and will be removed in a future version. To read from a literal string, wrap it in a 'StringIO' object.\n",
      "  detailed_stats = pd.read_html(stats_response.text)[0]\n",
      "/tmp/ipykernel_23442/533267115.py:66: FutureWarning: Passing literal html to 'read_html' is deprecated and will be removed in a future version. To read from a literal string, wrap it in a 'StringIO' object.\n",
      "  team_data = pd.read_html(team_response.text, match=\"Scores\")[0]\n"
     ]
    },
    {
     "name": "stdout",
     "output_type": "stream",
     "text": [
      "Logos/Sevilla.png\n",
      "Le logo existe déjà à Logos/Sevilla.png\n"
     ]
    },
    {
     "name": "stderr",
     "output_type": "stream",
     "text": [
      "/tmp/ipykernel_23442/533267115.py:87: FutureWarning: Passing literal html to 'read_html' is deprecated and will be removed in a future version. To read from a literal string, wrap it in a 'StringIO' object.\n",
      "  detailed_stats = pd.read_html(stats_response.text)[0]\n",
      "/tmp/ipykernel_23442/533267115.py:87: FutureWarning: Passing literal html to 'read_html' is deprecated and will be removed in a future version. To read from a literal string, wrap it in a 'StringIO' object.\n",
      "  detailed_stats = pd.read_html(stats_response.text)[0]\n",
      "/tmp/ipykernel_23442/533267115.py:87: FutureWarning: Passing literal html to 'read_html' is deprecated and will be removed in a future version. To read from a literal string, wrap it in a 'StringIO' object.\n",
      "  detailed_stats = pd.read_html(stats_response.text)[0]\n",
      "/tmp/ipykernel_23442/533267115.py:87: FutureWarning: Passing literal html to 'read_html' is deprecated and will be removed in a future version. To read from a literal string, wrap it in a 'StringIO' object.\n",
      "  detailed_stats = pd.read_html(stats_response.text)[0]\n",
      "/tmp/ipykernel_23442/533267115.py:87: FutureWarning: Passing literal html to 'read_html' is deprecated and will be removed in a future version. To read from a literal string, wrap it in a 'StringIO' object.\n",
      "  detailed_stats = pd.read_html(stats_response.text)[0]\n",
      "/tmp/ipykernel_23442/533267115.py:66: FutureWarning: Passing literal html to 'read_html' is deprecated and will be removed in a future version. To read from a literal string, wrap it in a 'StringIO' object.\n",
      "  team_data = pd.read_html(team_response.text, match=\"Scores\")[0]\n"
     ]
    },
    {
     "name": "stdout",
     "output_type": "stream",
     "text": [
      "Logos/Real Betis.png\n",
      "Le logo existe déjà à Logos/Real Betis.png\n"
     ]
    },
    {
     "name": "stderr",
     "output_type": "stream",
     "text": [
      "/tmp/ipykernel_23442/533267115.py:87: FutureWarning: Passing literal html to 'read_html' is deprecated and will be removed in a future version. To read from a literal string, wrap it in a 'StringIO' object.\n",
      "  detailed_stats = pd.read_html(stats_response.text)[0]\n",
      "/tmp/ipykernel_23442/533267115.py:87: FutureWarning: Passing literal html to 'read_html' is deprecated and will be removed in a future version. To read from a literal string, wrap it in a 'StringIO' object.\n",
      "  detailed_stats = pd.read_html(stats_response.text)[0]\n",
      "/tmp/ipykernel_23442/533267115.py:87: FutureWarning: Passing literal html to 'read_html' is deprecated and will be removed in a future version. To read from a literal string, wrap it in a 'StringIO' object.\n",
      "  detailed_stats = pd.read_html(stats_response.text)[0]\n",
      "/tmp/ipykernel_23442/533267115.py:87: FutureWarning: Passing literal html to 'read_html' is deprecated and will be removed in a future version. To read from a literal string, wrap it in a 'StringIO' object.\n",
      "  detailed_stats = pd.read_html(stats_response.text)[0]\n",
      "/tmp/ipykernel_23442/533267115.py:87: FutureWarning: Passing literal html to 'read_html' is deprecated and will be removed in a future version. To read from a literal string, wrap it in a 'StringIO' object.\n",
      "  detailed_stats = pd.read_html(stats_response.text)[0]\n",
      "/tmp/ipykernel_23442/533267115.py:66: FutureWarning: Passing literal html to 'read_html' is deprecated and will be removed in a future version. To read from a literal string, wrap it in a 'StringIO' object.\n",
      "  team_data = pd.read_html(team_response.text, match=\"Scores\")[0]\n"
     ]
    },
    {
     "name": "stdout",
     "output_type": "stream",
     "text": [
      "Logos/Real Sociedad.png\n",
      "Le logo existe déjà à Logos/Real Sociedad.png\n"
     ]
    },
    {
     "name": "stderr",
     "output_type": "stream",
     "text": [
      "/tmp/ipykernel_23442/533267115.py:87: FutureWarning: Passing literal html to 'read_html' is deprecated and will be removed in a future version. To read from a literal string, wrap it in a 'StringIO' object.\n",
      "  detailed_stats = pd.read_html(stats_response.text)[0]\n",
      "/tmp/ipykernel_23442/533267115.py:87: FutureWarning: Passing literal html to 'read_html' is deprecated and will be removed in a future version. To read from a literal string, wrap it in a 'StringIO' object.\n",
      "  detailed_stats = pd.read_html(stats_response.text)[0]\n",
      "/tmp/ipykernel_23442/533267115.py:87: FutureWarning: Passing literal html to 'read_html' is deprecated and will be removed in a future version. To read from a literal string, wrap it in a 'StringIO' object.\n",
      "  detailed_stats = pd.read_html(stats_response.text)[0]\n",
      "/tmp/ipykernel_23442/533267115.py:87: FutureWarning: Passing literal html to 'read_html' is deprecated and will be removed in a future version. To read from a literal string, wrap it in a 'StringIO' object.\n",
      "  detailed_stats = pd.read_html(stats_response.text)[0]\n",
      "/tmp/ipykernel_23442/533267115.py:87: FutureWarning: Passing literal html to 'read_html' is deprecated and will be removed in a future version. To read from a literal string, wrap it in a 'StringIO' object.\n",
      "  detailed_stats = pd.read_html(stats_response.text)[0]\n",
      "/tmp/ipykernel_23442/533267115.py:66: FutureWarning: Passing literal html to 'read_html' is deprecated and will be removed in a future version. To read from a literal string, wrap it in a 'StringIO' object.\n",
      "  team_data = pd.read_html(team_response.text, match=\"Scores\")[0]\n"
     ]
    },
    {
     "name": "stdout",
     "output_type": "stream",
     "text": [
      "Logos/Villarreal.png\n",
      "Le logo existe déjà à Logos/Villarreal.png\n"
     ]
    },
    {
     "name": "stderr",
     "output_type": "stream",
     "text": [
      "/tmp/ipykernel_23442/533267115.py:87: FutureWarning: Passing literal html to 'read_html' is deprecated and will be removed in a future version. To read from a literal string, wrap it in a 'StringIO' object.\n",
      "  detailed_stats = pd.read_html(stats_response.text)[0]\n",
      "/tmp/ipykernel_23442/533267115.py:87: FutureWarning: Passing literal html to 'read_html' is deprecated and will be removed in a future version. To read from a literal string, wrap it in a 'StringIO' object.\n",
      "  detailed_stats = pd.read_html(stats_response.text)[0]\n",
      "/tmp/ipykernel_23442/533267115.py:87: FutureWarning: Passing literal html to 'read_html' is deprecated and will be removed in a future version. To read from a literal string, wrap it in a 'StringIO' object.\n",
      "  detailed_stats = pd.read_html(stats_response.text)[0]\n",
      "/tmp/ipykernel_23442/533267115.py:87: FutureWarning: Passing literal html to 'read_html' is deprecated and will be removed in a future version. To read from a literal string, wrap it in a 'StringIO' object.\n",
      "  detailed_stats = pd.read_html(stats_response.text)[0]\n",
      "/tmp/ipykernel_23442/533267115.py:87: FutureWarning: Passing literal html to 'read_html' is deprecated and will be removed in a future version. To read from a literal string, wrap it in a 'StringIO' object.\n",
      "  detailed_stats = pd.read_html(stats_response.text)[0]\n",
      "/tmp/ipykernel_23442/533267115.py:66: FutureWarning: Passing literal html to 'read_html' is deprecated and will be removed in a future version. To read from a literal string, wrap it in a 'StringIO' object.\n",
      "  team_data = pd.read_html(team_response.text, match=\"Scores\")[0]\n"
     ]
    },
    {
     "name": "stdout",
     "output_type": "stream",
     "text": [
      "Logos/Athletic Club.png\n",
      "Le logo existe déjà à Logos/Athletic Club.png\n"
     ]
    },
    {
     "name": "stderr",
     "output_type": "stream",
     "text": [
      "/tmp/ipykernel_23442/533267115.py:87: FutureWarning: Passing literal html to 'read_html' is deprecated and will be removed in a future version. To read from a literal string, wrap it in a 'StringIO' object.\n",
      "  detailed_stats = pd.read_html(stats_response.text)[0]\n",
      "/tmp/ipykernel_23442/533267115.py:87: FutureWarning: Passing literal html to 'read_html' is deprecated and will be removed in a future version. To read from a literal string, wrap it in a 'StringIO' object.\n",
      "  detailed_stats = pd.read_html(stats_response.text)[0]\n",
      "/tmp/ipykernel_23442/533267115.py:87: FutureWarning: Passing literal html to 'read_html' is deprecated and will be removed in a future version. To read from a literal string, wrap it in a 'StringIO' object.\n",
      "  detailed_stats = pd.read_html(stats_response.text)[0]\n",
      "/tmp/ipykernel_23442/533267115.py:87: FutureWarning: Passing literal html to 'read_html' is deprecated and will be removed in a future version. To read from a literal string, wrap it in a 'StringIO' object.\n",
      "  detailed_stats = pd.read_html(stats_response.text)[0]\n",
      "/tmp/ipykernel_23442/533267115.py:87: FutureWarning: Passing literal html to 'read_html' is deprecated and will be removed in a future version. To read from a literal string, wrap it in a 'StringIO' object.\n",
      "  detailed_stats = pd.read_html(stats_response.text)[0]\n"
     ]
    },
    {
     "ename": "KeyboardInterrupt",
     "evalue": "",
     "output_type": "error",
     "traceback": [
      "\u001b[0;31m---------------------------------------------------------------------------\u001b[0m",
      "\u001b[0;31mKeyboardInterrupt\u001b[0m                         Traceback (most recent call last)",
      "\u001b[1;32m/home/onyxia/work/Projet-python/POO/POO.ipynb Cell 2\u001b[0m line \u001b[0;36m2\n\u001b[1;32m      <a href='vscode-notebook-cell://user-alexandreviard-731487-0.user.lab.sspcloud.fr/home/onyxia/work/Projet-python/POO/POO.ipynb#W1sdnNjb2RlLXJlbW90ZQ%3D%3D?line=0'>1</a>\u001b[0m allo \u001b[39m=\u001b[39m FootballDataScraper(\u001b[39m\"\u001b[39m\u001b[39mconfig.csv\u001b[39m\u001b[39m\"\u001b[39m)\n\u001b[0;32m----> <a href='vscode-notebook-cell://user-alexandreviard-731487-0.user.lab.sspcloud.fr/home/onyxia/work/Projet-python/POO/POO.ipynb#W1sdnNjb2RlLXJlbW90ZQ%3D%3D?line=1'>2</a>\u001b[0m allo\u001b[39m.\u001b[39;49mscrape_or_update()\n",
      "\u001b[1;32m/home/onyxia/work/Projet-python/POO/POO.ipynb Cell 2\u001b[0m line \u001b[0;36m3\n\u001b[1;32m     <a href='vscode-notebook-cell://user-alexandreviard-731487-0.user.lab.sspcloud.fr/home/onyxia/work/Projet-python/POO/POO.ipynb#W1sdnNjb2RlLXJlbW90ZQ%3D%3D?line=36'>37</a>\u001b[0m         all_data[championnat] \u001b[39m=\u001b[39m updated_data\n\u001b[1;32m     <a href='vscode-notebook-cell://user-alexandreviard-731487-0.user.lab.sspcloud.fr/home/onyxia/work/Projet-python/POO/POO.ipynb#W1sdnNjb2RlLXJlbW90ZQ%3D%3D?line=37'>38</a>\u001b[0m \u001b[39melse\u001b[39;00m:\n\u001b[0;32m---> <a href='vscode-notebook-cell://user-alexandreviard-731487-0.user.lab.sspcloud.fr/home/onyxia/work/Projet-python/POO/POO.ipynb#W1sdnNjb2RlLXJlbW90ZQ%3D%3D?line=38'>39</a>\u001b[0m     data \u001b[39m=\u001b[39m \u001b[39mself\u001b[39;49m\u001b[39m.\u001b[39;49mscrape_data(url)\n\u001b[1;32m     <a href='vscode-notebook-cell://user-alexandreviard-731487-0.user.lab.sspcloud.fr/home/onyxia/work/Projet-python/POO/POO.ipynb#W1sdnNjb2RlLXJlbW90ZQ%3D%3D?line=39'>40</a>\u001b[0m     all_data[championnat] \u001b[39m=\u001b[39m data\n\u001b[1;32m     <a href='vscode-notebook-cell://user-alexandreviard-731487-0.user.lab.sspcloud.fr/home/onyxia/work/Projet-python/POO/POO.ipynb#W1sdnNjb2RlLXJlbW90ZQ%3D%3D?line=41'>42</a>\u001b[0m \u001b[39mself\u001b[39m\u001b[39m.\u001b[39msave_data(all_data[championnat], csv_file_path)\n",
      "\u001b[1;32m/home/onyxia/work/Projet-python/POO/POO.ipynb Cell 2\u001b[0m line \u001b[0;36m6\n\u001b[1;32m     <a href='vscode-notebook-cell://user-alexandreviard-731487-0.user.lab.sspcloud.fr/home/onyxia/work/Projet-python/POO/POO.ipynb#W1sdnNjb2RlLXJlbW90ZQ%3D%3D?line=59'>60</a>\u001b[0m url \u001b[39m=\u001b[39m \u001b[39mf\u001b[39m\u001b[39m\"\u001b[39m\u001b[39mhttps://fbref.com\u001b[39m\u001b[39m{\u001b[39;00msoup\u001b[39m.\u001b[39mfind(\u001b[39m'\u001b[39m\u001b[39ma\u001b[39m\u001b[39m'\u001b[39m,\u001b[39m \u001b[39mclass_\u001b[39m=\u001b[39m\u001b[39m'\u001b[39m\u001b[39mbutton2 prev\u001b[39m\u001b[39m'\u001b[39m)\u001b[39m.\u001b[39mget(\u001b[39m'\u001b[39m\u001b[39mhref\u001b[39m\u001b[39m'\u001b[39m)\u001b[39m}\u001b[39;00m\u001b[39m\"\u001b[39m\n\u001b[1;32m     <a href='vscode-notebook-cell://user-alexandreviard-731487-0.user.lab.sspcloud.fr/home/onyxia/work/Projet-python/POO/POO.ipynb#W1sdnNjb2RlLXJlbW90ZQ%3D%3D?line=61'>62</a>\u001b[0m \u001b[39mfor\u001b[39;00m team_url \u001b[39min\u001b[39;00m teams_urls:\n\u001b[0;32m---> <a href='vscode-notebook-cell://user-alexandreviard-731487-0.user.lab.sspcloud.fr/home/onyxia/work/Projet-python/POO/POO.ipynb#W1sdnNjb2RlLXJlbW90ZQ%3D%3D?line=63'>64</a>\u001b[0m     \u001b[39mself\u001b[39;49m\u001b[39m.\u001b[39;49mrate_limit()\n\u001b[1;32m     <a href='vscode-notebook-cell://user-alexandreviard-731487-0.user.lab.sspcloud.fr/home/onyxia/work/Projet-python/POO/POO.ipynb#W1sdnNjb2RlLXJlbW90ZQ%3D%3D?line=64'>65</a>\u001b[0m     team_response \u001b[39m=\u001b[39m requests\u001b[39m.\u001b[39mget(team_url, headers\u001b[39m=\u001b[39m\u001b[39mself\u001b[39m\u001b[39m.\u001b[39mheaders)\n\u001b[1;32m     <a href='vscode-notebook-cell://user-alexandreviard-731487-0.user.lab.sspcloud.fr/home/onyxia/work/Projet-python/POO/POO.ipynb#W1sdnNjb2RlLXJlbW90ZQ%3D%3D?line=65'>66</a>\u001b[0m     team_data \u001b[39m=\u001b[39m pd\u001b[39m.\u001b[39mread_html(team_response\u001b[39m.\u001b[39mtext, match\u001b[39m=\u001b[39m\u001b[39m\"\u001b[39m\u001b[39mScores\u001b[39m\u001b[39m\"\u001b[39m)[\u001b[39m0\u001b[39m]\n",
      "\u001b[1;32m/home/onyxia/work/Projet-python/POO/POO.ipynb Cell 2\u001b[0m line \u001b[0;36m1\n\u001b[1;32m    <a href='vscode-notebook-cell://user-alexandreviard-731487-0.user.lab.sspcloud.fr/home/onyxia/work/Projet-python/POO/POO.ipynb#W1sdnNjb2RlLXJlbW90ZQ%3D%3D?line=117'>118</a>\u001b[0m     elapsed_time \u001b[39m=\u001b[39m time\u001b[39m.\u001b[39mtime() \u001b[39m-\u001b[39m \u001b[39mself\u001b[39m\u001b[39m.\u001b[39mlast_request_time\n\u001b[1;32m    <a href='vscode-notebook-cell://user-alexandreviard-731487-0.user.lab.sspcloud.fr/home/onyxia/work/Projet-python/POO/POO.ipynb#W1sdnNjb2RlLXJlbW90ZQ%3D%3D?line=118'>119</a>\u001b[0m     \u001b[39mif\u001b[39;00m elapsed_time \u001b[39m<\u001b[39m \u001b[39mself\u001b[39m\u001b[39m.\u001b[39mrequest_interval:\n\u001b[0;32m--> <a href='vscode-notebook-cell://user-alexandreviard-731487-0.user.lab.sspcloud.fr/home/onyxia/work/Projet-python/POO/POO.ipynb#W1sdnNjb2RlLXJlbW90ZQ%3D%3D?line=119'>120</a>\u001b[0m         time\u001b[39m.\u001b[39;49msleep(\u001b[39mself\u001b[39;49m\u001b[39m.\u001b[39;49mrequest_interval \u001b[39m-\u001b[39;49m elapsed_time)\n\u001b[1;32m    <a href='vscode-notebook-cell://user-alexandreviard-731487-0.user.lab.sspcloud.fr/home/onyxia/work/Projet-python/POO/POO.ipynb#W1sdnNjb2RlLXJlbW90ZQ%3D%3D?line=120'>121</a>\u001b[0m \u001b[39mself\u001b[39m\u001b[39m.\u001b[39mlast_request_time \u001b[39m=\u001b[39m time\u001b[39m.\u001b[39mtime()\n",
      "\u001b[0;31mKeyboardInterrupt\u001b[0m: "
     ]
    }
   ],
   "source": [
    "allo = FootballDataScraper(\"config.csv\")\n",
    "allo.scrape_or_update()"
   ]
  }
 ],
 "metadata": {
  "kernelspec": {
   "display_name": "base",
   "language": "python",
   "name": "python3"
  },
  "language_info": {
   "codemirror_mode": {
    "name": "ipython",
    "version": 3
   },
   "file_extension": ".py",
   "mimetype": "text/x-python",
   "name": "python",
   "nbconvert_exporter": "python",
   "pygments_lexer": "ipython3",
   "version": "3.10.13"
  }
 },
 "nbformat": 4,
 "nbformat_minor": 2
}
